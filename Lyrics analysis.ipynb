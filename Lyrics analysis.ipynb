{
 "cells": [
  {
   "cell_type": "code",
   "execution_count": 31,
   "metadata": {},
   "outputs": [
    {
     "ename": "ImportError",
     "evalue": "No module named html",
     "output_type": "error",
     "traceback": [
      "\u001b[0;31m---------------------------------------------------------------------------\u001b[0m",
      "\u001b[0;31mImportError\u001b[0m                               Traceback (most recent call last)",
      "\u001b[0;32m<ipython-input-31-e7ed929a05f8>\u001b[0m in \u001b[0;36m<module>\u001b[0;34m()\u001b[0m\n\u001b[1;32m     11\u001b[0m \u001b[0;34m\u001b[0m\u001b[0m\n\u001b[1;32m     12\u001b[0m \u001b[0;32mimport\u001b[0m \u001b[0mseaborn\u001b[0m \u001b[0;32mas\u001b[0m \u001b[0msn\u001b[0m\u001b[0;34m;\u001b[0m\u001b[0;34m\u001b[0m\u001b[0m\n\u001b[0;32m---> 13\u001b[0;31m \u001b[0;32mimport\u001b[0m \u001b[0mhtml\u001b[0m\u001b[0;34m;\u001b[0m\u001b[0;34m\u001b[0m\u001b[0m\n\u001b[0m",
      "\u001b[0;31mImportError\u001b[0m: No module named html"
     ]
    }
   ],
   "source": [
    "%matplotlib inline\n",
    "from __future__ import print_function\n",
    "\n",
    "import os;\n",
    "import codecs;\n",
    "import re;\n",
    "import json;\n",
    "import numpy as np;\n",
    "import pandas as pd;\n",
    "import matplotlib.pyplot as plt;\n",
    "\n",
    "import seaborn as sn;\n",
    "import html;"
   ]
  },
  {
   "cell_type": "code",
   "execution_count": 2,
   "metadata": {
    "collapsed": true
   },
   "outputs": [],
   "source": [
    "from os.path import expanduser\n",
    "home = expanduser(\"~\")"
   ]
  },
  {
   "cell_type": "code",
   "execution_count": 17,
   "metadata": {
    "collapsed": true
   },
   "outputs": [],
   "source": [
    "lyrics = None;\n",
    "\n",
    "with codecs.open(home+r'/songs.json', mode='r') as outfile:\n",
    "    lyrics = json.load(outfile);"
   ]
  },
  {
   "cell_type": "code",
   "execution_count": 18,
   "metadata": {
    "collapsed": true
   },
   "outputs": [],
   "source": [
    "for l in lyrics:\n",
    "    if l['contributor']:\n",
    "        l['contributor'] = l['contributor'].strip()\n",
    "    if l['exbibitions']:\n",
    "        l['exbibitions'] = l['exbibitions'][0];\n",
    "        l['exbibitions'] = float(re.sub(r'\\D','', l['exbibitions']))\n",
    "    if len(l['genre']) < 2:\n",
    "        l['genre'] = 'unknown';"
   ]
  },
  {
   "cell_type": "code",
   "execution_count": 32,
   "metadata": {},
   "outputs": [
    {
     "ename": "NameError",
     "evalue": "name 'html' is not defined",
     "output_type": "error",
     "traceback": [
      "\u001b[0;31m---------------------------------------------------------------------------\u001b[0m",
      "\u001b[0;31mNameError\u001b[0m                                 Traceback (most recent call last)",
      "\u001b[0;32m<ipython-input-32-a34c273da5cc>\u001b[0m in \u001b[0;36m<module>\u001b[0;34m()\u001b[0m\n\u001b[0;32m----> 1\u001b[0;31m \u001b[0;32mprint\u001b[0m \u001b[0;34m(\u001b[0m\u001b[0mhtml\u001b[0m\u001b[0;34m.\u001b[0m\u001b[0munscape\u001b[0m\u001b[0;34m)\u001b[0m\u001b[0;34m\u001b[0m\u001b[0m\n\u001b[0m",
      "\u001b[0;31mNameError\u001b[0m: name 'html' is not defined"
     ]
    }
   ],
   "source": [
    "print (html.unscape)"
   ]
  },
  {
   "cell_type": "code",
   "execution_count": 20,
   "metadata": {
    "collapsed": true
   },
   "outputs": [],
   "source": [
    "df = pd.DataFrame(lyrics);"
   ]
  },
  {
   "cell_type": "code",
   "execution_count": 21,
   "metadata": {},
   "outputs": [
    {
     "name": "stdout",
     "output_type": "stream",
     "text": [
      "<class 'pandas.core.frame.DataFrame'>\n",
      "RangeIndex: 53486 entries, 0 to 53485\n",
      "Data columns (total 7 columns):\n",
      "artist         53486 non-null object\n",
      "compositor     53486 non-null object\n",
      "contributor    53486 non-null object\n",
      "exbibitions    53486 non-null object\n",
      "genre          53486 non-null object\n",
      "songHtml       53486 non-null object\n",
      "title          53486 non-null object\n",
      "dtypes: object(7)\n",
      "memory usage: 2.9+ MB\n"
     ]
    }
   ],
   "source": [
    "df.info()"
   ]
  },
  {
   "cell_type": "code",
   "execution_count": 22,
   "metadata": {},
   "outputs": [
    {
     "data": {
      "text/html": [
       "<div>\n",
       "<style>\n",
       "    .dataframe thead tr:only-child th {\n",
       "        text-align: right;\n",
       "    }\n",
       "\n",
       "    .dataframe thead th {\n",
       "        text-align: left;\n",
       "    }\n",
       "\n",
       "    .dataframe tbody tr th {\n",
       "        vertical-align: top;\n",
       "    }\n",
       "</style>\n",
       "<table border=\"1\" class=\"dataframe\">\n",
       "  <thead>\n",
       "    <tr style=\"text-align: right;\">\n",
       "      <th></th>\n",
       "      <th>artist</th>\n",
       "      <th>compositor</th>\n",
       "      <th>contributor</th>\n",
       "      <th>exbibitions</th>\n",
       "      <th>genre</th>\n",
       "      <th>songHtml</th>\n",
       "      <th>title</th>\n",
       "    </tr>\n",
       "  </thead>\n",
       "  <tbody>\n",
       "    <tr>\n",
       "      <th>0</th>\n",
       "      <td>1Kilo</td>\n",
       "      <td></td>\n",
       "      <td>/membros/7957031/</td>\n",
       "      <td>40,026.00</td>\n",
       "      <td>Hip Hop/Rap</td>\n",
       "      <td>&lt;article&gt; &lt;p&gt;[Chino]\\nA menina doce me olha\\nS...</td>\n",
       "      <td>O Surto</td>\n",
       "    </tr>\n",
       "    <tr>\n",
       "      <th>1</th>\n",
       "      <td>1Kilo</td>\n",
       "      <td>DoisP / Knust / Pablo Martins / Rafael Sadan ·</td>\n",
       "      <td>/membros/7871371/</td>\n",
       "      <td>49,954.00</td>\n",
       "      <td>Hip Hop/Rap</td>\n",
       "      <td>&lt;article&gt; &lt;p&gt;[Pablo]\\nAten&amp;#231;&amp;#227;o de sol...</td>\n",
       "      <td>Reza Sincera</td>\n",
       "    </tr>\n",
       "    <tr>\n",
       "      <th>2</th>\n",
       "      <td>1Kilo</td>\n",
       "      <td>Pablo Martins / Pelé MilFlows ·</td>\n",
       "      <td>/membros/4187525/</td>\n",
       "      <td>4,276.00</td>\n",
       "      <td>Hip Hop/Rap</td>\n",
       "      <td>&lt;article&gt; &lt;p&gt;[Pablo]\\nEnquanto as nuvens me gu...</td>\n",
       "      <td>Porta do Céu</td>\n",
       "    </tr>\n",
       "    <tr>\n",
       "      <th>3</th>\n",
       "      <td>1Kilo</td>\n",
       "      <td>DoisP / MZ / Pablo Martins ·</td>\n",
       "      <td>/membros/4187525/</td>\n",
       "      <td>4,351.00</td>\n",
       "      <td>Hip Hop/Rap</td>\n",
       "      <td>&lt;article&gt; &lt;p&gt;[Pablo]\\nAs luzes da boate reflet...</td>\n",
       "      <td>Amor e Vingança</td>\n",
       "    </tr>\n",
       "    <tr>\n",
       "      <th>4</th>\n",
       "      <td>1Kilo</td>\n",
       "      <td></td>\n",
       "      <td>/membros/7010597/</td>\n",
       "      <td>3,897.00</td>\n",
       "      <td>Hip Hop/Rap</td>\n",
       "      <td>&lt;article&gt; &lt;p&gt;Lindaaaa\\nBela princesa\\nQuando m...</td>\n",
       "      <td>Linda (part. Nosense)</td>\n",
       "    </tr>\n",
       "  </tbody>\n",
       "</table>\n",
       "</div>"
      ],
      "text/plain": [
       "  artist                                      compositor        contributor  \\\n",
       "0  1Kilo                                                  /membros/7957031/   \n",
       "1  1Kilo  DoisP / Knust / Pablo Martins / Rafael Sadan ·  /membros/7871371/   \n",
       "2  1Kilo                 Pablo Martins / Pelé MilFlows ·  /membros/4187525/   \n",
       "3  1Kilo                    DoisP / MZ / Pablo Martins ·  /membros/4187525/   \n",
       "4  1Kilo                                                  /membros/7010597/   \n",
       "\n",
       "  exbibitions        genre                                           songHtml  \\\n",
       "0   40,026.00  Hip Hop/Rap  <article> <p>[Chino]\\nA menina doce me olha\\nS...   \n",
       "1   49,954.00  Hip Hop/Rap  <article> <p>[Pablo]\\nAten&#231;&#227;o de sol...   \n",
       "2    4,276.00  Hip Hop/Rap  <article> <p>[Pablo]\\nEnquanto as nuvens me gu...   \n",
       "3    4,351.00  Hip Hop/Rap  <article> <p>[Pablo]\\nAs luzes da boate reflet...   \n",
       "4    3,897.00  Hip Hop/Rap  <article> <p>Lindaaaa\\nBela princesa\\nQuando m...   \n",
       "\n",
       "                   title  \n",
       "0                O Surto  \n",
       "1           Reza Sincera  \n",
       "2           Porta do Céu  \n",
       "3        Amor e Vingança  \n",
       "4  Linda (part. Nosense)  "
      ]
     },
     "execution_count": 22,
     "metadata": {},
     "output_type": "execute_result"
    }
   ],
   "source": [
    "df.head()"
   ]
  },
  {
   "cell_type": "code",
   "execution_count": 26,
   "metadata": {},
   "outputs": [
    {
     "data": {
      "text/plain": [
       "<matplotlib.axes._subplots.AxesSubplot at 0x1a1354e590>"
      ]
     },
     "execution_count": 26,
     "metadata": {},
     "output_type": "execute_result"
    },
    {
     "data": {
      "text/plain": [
       "<matplotlib.figure.Figure at 0x1a125f82d0>"
      ]
     },
     "metadata": {},
     "output_type": "display_data"
    },
    {
     "data": {
      "image/png": "[encoded data removed]",
      "text/plain": [
       "<matplotlib.figure.Figure at 0x1a1283cf90>"
      ]
     },
     "metadata": {},
     "output_type": "display_data"
    }
   ],
   "source": [
    "plt.figure(figsize=(20,10))\n",
    "df[['artist','exbibitions']] \\\n",
    "    .groupby(by=['artist'])\\\n",
    "    .sum()\\\n",
    "    .reset_index()\\\n",
    "    .sort_values(by='exbibitions',ascending=False)\\\n",
    "    .head(50)\\\n",
    "    .plot.bar(x='artist',y='exbibitions', figsize=(20,5))"
   ]
  },
  {
   "cell_type": "code",
   "execution_count": 27,
   "metadata": {},
   "outputs": [
    {
     "data": {
      "text/plain": [
       "<matplotlib.figure.Figure at 0x1a136dd790>"
      ]
     },
     "metadata": {},
     "output_type": "display_data"
    },
    {
     "data": {
      "image/png": "[encoded data removed]",
      "text/plain": [
       "<matplotlib.figure.Figure at 0x1a136c0c50>"
      ]
     },
     "metadata": {},
     "output_type": "display_data"
    }
   ],
   "source": [
    "plt.figure(figsize=(10,2))\n",
    "df[['genre','exbibitions']] \\\n",
    "    .groupby(by=['genre'])\\\n",
    "    .sum()\\\n",
    "    .reset_index()\\\n",
    "    .sort_values(by='exbibitions',ascending=False)\\\n",
    "    .head(40)\\\n",
    "    .plot.bar(x='genre',y='exbibitions', figsize=(20,5));\n",
    "plt.plot();"
   ]
  },
  {
   "cell_type": "code",
   "execution_count": 28,
   "metadata": {},
   "outputs": [
    {
     "data": {
      "text/html": [
       "<div>\n",
       "<style>\n",
       "    .dataframe thead tr:only-child th {\n",
       "        text-align: right;\n",
       "    }\n",
       "\n",
       "    .dataframe thead th {\n",
       "        text-align: left;\n",
       "    }\n",
       "\n",
       "    .dataframe tbody tr th {\n",
       "        vertical-align: top;\n",
       "    }\n",
       "</style>\n",
       "<table border=\"1\" class=\"dataframe\">\n",
       "  <thead>\n",
       "    <tr style=\"text-align: right;\">\n",
       "      <th></th>\n",
       "      <th>artist</th>\n",
       "      <th>exbibitions</th>\n",
       "    </tr>\n",
       "  </thead>\n",
       "  <tbody>\n",
       "    <tr>\n",
       "      <th>94</th>\n",
       "      <td>Jorge e Mateus</td>\n",
       "      <td>181,652,922.00</td>\n",
       "    </tr>\n",
       "    <tr>\n",
       "      <th>114</th>\n",
       "      <td>Luan Santana</td>\n",
       "      <td>122,791,430.00</td>\n",
       "    </tr>\n",
       "    <tr>\n",
       "      <th>38</th>\n",
       "      <td>Charlie Brown Jr.</td>\n",
       "      <td>97,939,591.00</td>\n",
       "    </tr>\n",
       "    <tr>\n",
       "      <th>194</th>\n",
       "      <td>Sorriso Maroto</td>\n",
       "      <td>83,185,211.00</td>\n",
       "    </tr>\n",
       "    <tr>\n",
       "      <th>107</th>\n",
       "      <td>Legião Urbana</td>\n",
       "      <td>83,047,740.00</td>\n",
       "    </tr>\n",
       "    <tr>\n",
       "      <th>64</th>\n",
       "      <td>Exaltasamba</td>\n",
       "      <td>70,217,318.00</td>\n",
       "    </tr>\n",
       "    <tr>\n",
       "      <th>79</th>\n",
       "      <td>Gusttavo Lima</td>\n",
       "      <td>68,426,160.00</td>\n",
       "    </tr>\n",
       "    <tr>\n",
       "      <th>98</th>\n",
       "      <td>Justin Bieber</td>\n",
       "      <td>53,368,164.00</td>\n",
       "    </tr>\n",
       "    <tr>\n",
       "      <th>2</th>\n",
       "      <td>Adele</td>\n",
       "      <td>50,100,302.00</td>\n",
       "    </tr>\n",
       "    <tr>\n",
       "      <th>181</th>\n",
       "      <td>Rihanna</td>\n",
       "      <td>45,494,412.00</td>\n",
       "    </tr>\n",
       "    <tr>\n",
       "      <th>164</th>\n",
       "      <td>Paula Fernandes</td>\n",
       "      <td>44,397,879.00</td>\n",
       "    </tr>\n",
       "    <tr>\n",
       "      <th>153</th>\n",
       "      <td>Nando Reis</td>\n",
       "      <td>44,385,631.00</td>\n",
       "    </tr>\n",
       "    <tr>\n",
       "      <th>26</th>\n",
       "      <td>Beyoncé</td>\n",
       "      <td>44,344,025.00</td>\n",
       "    </tr>\n",
       "    <tr>\n",
       "      <th>200</th>\n",
       "      <td>The Beatles</td>\n",
       "      <td>43,399,028.00</td>\n",
       "    </tr>\n",
       "    <tr>\n",
       "      <th>82</th>\n",
       "      <td>Henrique e Juliano</td>\n",
       "      <td>42,923,732.00</td>\n",
       "    </tr>\n",
       "    <tr>\n",
       "      <th>40</th>\n",
       "      <td>Chico Buarque</td>\n",
       "      <td>42,700,586.00</td>\n",
       "    </tr>\n",
       "    <tr>\n",
       "      <th>30</th>\n",
       "      <td>Bruno Mars</td>\n",
       "      <td>42,232,407.00</td>\n",
       "    </tr>\n",
       "    <tr>\n",
       "      <th>47</th>\n",
       "      <td>Coldplay</td>\n",
       "      <td>41,678,699.00</td>\n",
       "    </tr>\n",
       "    <tr>\n",
       "      <th>31</th>\n",
       "      <td>Bruno e Marrone</td>\n",
       "      <td>39,235,212.00</td>\n",
       "    </tr>\n",
       "    <tr>\n",
       "      <th>100</th>\n",
       "      <td>Katy Perry</td>\n",
       "      <td>38,921,971.00</td>\n",
       "    </tr>\n",
       "    <tr>\n",
       "      <th>138</th>\n",
       "      <td>Marisa Monte</td>\n",
       "      <td>37,927,820.00</td>\n",
       "    </tr>\n",
       "    <tr>\n",
       "      <th>220</th>\n",
       "      <td>Victor e Leo</td>\n",
       "      <td>37,805,976.00</td>\n",
       "    </tr>\n",
       "    <tr>\n",
       "      <th>63</th>\n",
       "      <td>Engenheiros do Hawaii</td>\n",
       "      <td>37,434,555.00</td>\n",
       "    </tr>\n",
       "    <tr>\n",
       "      <th>104</th>\n",
       "      <td>Lady Gaga</td>\n",
       "      <td>37,047,026.00</td>\n",
       "    </tr>\n",
       "    <tr>\n",
       "      <th>33</th>\n",
       "      <td>Caetano Veloso</td>\n",
       "      <td>36,741,210.00</td>\n",
       "    </tr>\n",
       "    <tr>\n",
       "      <th>171</th>\n",
       "      <td>Projota</td>\n",
       "      <td>36,495,255.00</td>\n",
       "    </tr>\n",
       "    <tr>\n",
       "      <th>182</th>\n",
       "      <td>Roberto Carlos</td>\n",
       "      <td>36,475,175.00</td>\n",
       "    </tr>\n",
       "    <tr>\n",
       "      <th>198</th>\n",
       "      <td>Taylor Swift</td>\n",
       "      <td>35,996,001.00</td>\n",
       "    </tr>\n",
       "    <tr>\n",
       "      <th>215</th>\n",
       "      <td>Turma do Pagode</td>\n",
       "      <td>35,266,163.00</td>\n",
       "    </tr>\n",
       "    <tr>\n",
       "      <th>68</th>\n",
       "      <td>Fernando e Sorocaba</td>\n",
       "      <td>34,353,486.00</td>\n",
       "    </tr>\n",
       "    <tr>\n",
       "      <th>18</th>\n",
       "      <td>Avril Lavigne</td>\n",
       "      <td>34,099,643.00</td>\n",
       "    </tr>\n",
       "    <tr>\n",
       "      <th>113</th>\n",
       "      <td>Los Hermanos</td>\n",
       "      <td>33,258,698.00</td>\n",
       "    </tr>\n",
       "    <tr>\n",
       "      <th>49</th>\n",
       "      <td>Cristiano Araújo</td>\n",
       "      <td>32,016,090.00</td>\n",
       "    </tr>\n",
       "    <tr>\n",
       "      <th>174</th>\n",
       "      <td>Racionais Mc's</td>\n",
       "      <td>31,774,815.00</td>\n",
       "    </tr>\n",
       "    <tr>\n",
       "      <th>36</th>\n",
       "      <td>Capital Inicial</td>\n",
       "      <td>31,160,460.00</td>\n",
       "    </tr>\n",
       "    <tr>\n",
       "      <th>95</th>\n",
       "      <td>Jota Quest</td>\n",
       "      <td>30,986,424.00</td>\n",
       "    </tr>\n",
       "    <tr>\n",
       "      <th>96</th>\n",
       "      <td>João Bosco e Vinícius</td>\n",
       "      <td>30,974,090.00</td>\n",
       "    </tr>\n",
       "    <tr>\n",
       "      <th>53</th>\n",
       "      <td>Demi Lovato</td>\n",
       "      <td>30,254,337.00</td>\n",
       "    </tr>\n",
       "    <tr>\n",
       "      <th>88</th>\n",
       "      <td>Ivete Sangalo</td>\n",
       "      <td>29,920,317.00</td>\n",
       "    </tr>\n",
       "    <tr>\n",
       "      <th>37</th>\n",
       "      <td>Cazuza</td>\n",
       "      <td>29,774,804.00</td>\n",
       "    </tr>\n",
       "  </tbody>\n",
       "</table>\n",
       "</div>"
      ],
      "text/plain": [
       "                    artist    exbibitions\n",
       "94          Jorge e Mateus 181,652,922.00\n",
       "114           Luan Santana 122,791,430.00\n",
       "38       Charlie Brown Jr.  97,939,591.00\n",
       "194         Sorriso Maroto  83,185,211.00\n",
       "107          Legião Urbana  83,047,740.00\n",
       "64             Exaltasamba  70,217,318.00\n",
       "79           Gusttavo Lima  68,426,160.00\n",
       "98           Justin Bieber  53,368,164.00\n",
       "2                    Adele  50,100,302.00\n",
       "181                Rihanna  45,494,412.00\n",
       "164        Paula Fernandes  44,397,879.00\n",
       "153             Nando Reis  44,385,631.00\n",
       "26                 Beyoncé  44,344,025.00\n",
       "200            The Beatles  43,399,028.00\n",
       "82      Henrique e Juliano  42,923,732.00\n",
       "40           Chico Buarque  42,700,586.00\n",
       "30              Bruno Mars  42,232,407.00\n",
       "47                Coldplay  41,678,699.00\n",
       "31         Bruno e Marrone  39,235,212.00\n",
       "100             Katy Perry  38,921,971.00\n",
       "138           Marisa Monte  37,927,820.00\n",
       "220           Victor e Leo  37,805,976.00\n",
       "63   Engenheiros do Hawaii  37,434,555.00\n",
       "104              Lady Gaga  37,047,026.00\n",
       "33          Caetano Veloso  36,741,210.00\n",
       "171                Projota  36,495,255.00\n",
       "182         Roberto Carlos  36,475,175.00\n",
       "198           Taylor Swift  35,996,001.00\n",
       "215        Turma do Pagode  35,266,163.00\n",
       "68     Fernando e Sorocaba  34,353,486.00\n",
       "18           Avril Lavigne  34,099,643.00\n",
       "113           Los Hermanos  33,258,698.00\n",
       "49        Cristiano Araújo  32,016,090.00\n",
       "174         Racionais Mc's  31,774,815.00\n",
       "36         Capital Inicial  31,160,460.00\n",
       "95              Jota Quest  30,986,424.00\n",
       "96   João Bosco e Vinícius  30,974,090.00\n",
       "53             Demi Lovato  30,254,337.00\n",
       "88           Ivete Sangalo  29,920,317.00\n",
       "37                  Cazuza  29,774,804.00"
      ]
     },
     "execution_count": 28,
     "metadata": {},
     "output_type": "execute_result"
    }
   ],
   "source": [
    "pd.options.display.float_format = '{:,.2f}'.format\n",
    "(df[df.genre != 'Gospel/Religioso'])[['artist','exbibitions']] \\\n",
    "    .groupby(by=['artist'])\\\n",
    "    .sum()\\\n",
    "    .reset_index()\\\n",
    "    .sort_values(by='exbibitions',ascending=False)\\\n",
    "    .head(40)"
   ]
  },
  {
   "cell_type": "code",
   "execution_count": null,
   "metadata": {
    "collapsed": true
   },
   "outputs": [],
   "source": []
  }
 ],
 "metadata": {
  "kernelspec": {
   "display_name": "Python 2",
   "language": "python",
   "name": "python2"
  },
  "language_info": {
   "codemirror_mode": {
    "name": "ipython",
    "version": 2
   },
   "file_extension": ".py",
   "mimetype": "text/x-python",
   "name": "python",
   "nbconvert_exporter": "python",
   "pygments_lexer": "ipython2",
   "version": "2.7.14"
  }
 },
 "nbformat": 4,
 "nbformat_minor": 2
}
