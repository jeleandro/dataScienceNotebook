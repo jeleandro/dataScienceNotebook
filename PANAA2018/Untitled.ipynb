{
 "cells": [
  {
   "cell_type": "code",
   "execution_count": 1,
   "metadata": {},
   "outputs": [],
   "source": [
    "%matplotlib inline\n",
    "#python basic libs\n",
    "from __future__ import print_function\n",
    "\n",
    "from tempfile import mkdtemp\n",
    "from shutil import rmtree\n",
    "import os;\n",
    "from os.path import join as pathjoin;\n",
    "\n",
    "import re;\n",
    "import glob;\n",
    "import json;\n",
    "import codecs;\n",
    "import itertools;\n",
    "from collections import defaultdict, Counter;\n",
    "import pprint;\n",
    "\n",
    "from pprint import pprint\n",
    "from time import time\n",
    "import logging\n",
    "\n",
    "\n",
    "#data analysis libs\n",
    "import numpy as np;\n",
    "import pandas as pd;\n",
    "import matplotlib.pyplot as plt;\n",
    "import random;\n",
    "np.set_printoptions(precision=4)\n",
    "\n",
    "#machine learning libs\n",
    "#feature extraction\n",
    "from sklearn.feature_extraction.text import CountVectorizer, TfidfVectorizer, TfidfTransformer\n",
    "\n",
    "#preprocessing and transformation\n",
    "from sklearn.preprocessing import normalize, MaxAbsScaler, MinMaxScaler, StandardScaler;\n",
    "from sklearn.preprocessing import LabelBinarizer;\n",
    "from sklearn.decomposition import PCA, KernelPCA, FastICA;\n",
    "from sklearn.metrics.pairwise import cosine_similarity;\n",
    "from scipy.spatial.distance import cosine;\n",
    "\n",
    "\n",
    "from sklearn.base import BaseEstimator, ClassifierMixin\n",
    "\n",
    "#classifiers\n",
    "from sklearn.linear_model import LogisticRegression\n",
    "\n",
    "\n",
    "#\n",
    "from sklearn.model_selection import GridSearchCV, train_test_split\n",
    "from sklearn.pipeline import Pipeline, make_pipeline\n",
    "\n",
    "#model valuation\n",
    "from sklearn.metrics import roc_auc_score, f1_score, precision_score, recall_score, accuracy_score;\n"
   ]
  },
  {
   "cell_type": "code",
   "execution_count": 55,
   "metadata": {
    "scrolled": false
   },
   "outputs": [
    {
     "name": "stdout",
     "output_type": "stream",
     "text": [
      "Loading 20 newsgroups dataset for categories:\n",
      "['alt.atheism', 'talk.religion.misc', 'rec.sport.baseball', 'rec.sport.hockey', 'sci.space']\n",
      "data loaded\n",
      "Extracting features from the training data using a sparse vectorizer\n",
      "done in 0.607905s at 6.546MB/s\n",
      "n_samples: 2647, n_features: 28711\n",
      "\n",
      "Extracting features from the test data using the same vectorizer\n",
      "done in 0.296904s at 9.658MB/s\n",
      "n_samples: 1760, n_features: 28711\n",
      "\n",
      "Extracting 1000 best features by a chi-squared test\n",
      "done in 0.017791s\n",
      "\n"
     ]
    }
   ],
   "source": [
    "from __future__ import print_function\n",
    "\n",
    "import logging\n",
    "import numpy as np\n",
    "import sys\n",
    "from time import time\n",
    "import matplotlib.pyplot as plt\n",
    "\n",
    "from sklearn.datasets import fetch_20newsgroups\n",
    "from sklearn.feature_extraction.text import TfidfVectorizer\n",
    "from sklearn.feature_extraction.text import HashingVectorizer\n",
    "from sklearn.feature_selection import SelectFromModel\n",
    "from sklearn.feature_selection import SelectKBest, chi2\n",
    "from sklearn.linear_model import RidgeClassifier\n",
    "from sklearn.pipeline import Pipeline\n",
    "from sklearn.svm import LinearSVC\n",
    "from sklearn import metrics\n",
    "\n",
    "\n",
    "# #############################################################################\n",
    "# Load some categories from the training set\n",
    "categories = [\n",
    "    'alt.atheism',\n",
    "    'talk.religion.misc',\n",
    " 'rec.sport.baseball',\n",
    " 'rec.sport.hockey',\n",
    "    'sci.space',\n",
    "]\n",
    "remove = ('headers', 'footers', 'quotes')\n",
    "\n",
    "\n",
    "print(\"Loading 20 newsgroups dataset for categories:\")\n",
    "print(categories if categories else \"all\")\n",
    "\n",
    "data_train = fetch_20newsgroups(subset='train', categories=categories,shuffle=True, random_state=42,remove=remove)\n",
    "data_test = fetch_20newsgroups(subset='test', categories=categories,shuffle=True, random_state=42,remove=remove)\n",
    "print('data loaded')\n",
    "\n",
    "# order of labels in `target_names` can be different from `categories`\n",
    "target_names = data_train.target_names\n",
    "\n",
    "# split a training set and a test set\n",
    "y_train, y_test = data_train.target, data_test.target\n",
    "\n",
    "print(\"Extracting features from the training data using a sparse vectorizer\")\n",
    "t0 = time()\n",
    "vectorizer = TfidfVectorizer(sublinear_tf=True, max_df=0.5,stop_words='english')\n",
    "X_train = vectorizer.fit_transform(data_train.data)\n",
    "\n",
    "duration = time() - t0\n",
    "print(\"done in %fs at %0.3fMB/s\" % (duration, data_train_size_mb / duration))\n",
    "print(\"n_samples: %d, n_features: %d\" % X_train.shape)\n",
    "print()\n",
    "\n",
    "print(\"Extracting features from the test data using the same vectorizer\")\n",
    "t0 = time()\n",
    "X_test = vectorizer.transform(data_test.data)\n",
    "duration = time() - t0\n",
    "print(\"done in %fs at %0.3fMB/s\" % (duration, data_test_size_mb / duration))\n",
    "print(\"n_samples: %d, n_features: %d\" % X_test.shape)\n",
    "print()\n",
    "\n",
    "# mapping from integer feature name to original token string\n",
    "feature_names = vectorizer.get_feature_names()\n",
    "\n",
    "print(\"Extracting 1000 best features by a chi-squared test\" )\n",
    "t0 = time()\n",
    "ch2 = SelectKBest(chi2, k=1000)\n",
    "X_train = ch2.fit_transform(X_train, y_train)\n",
    "X_test = ch2.transform(X_test)\n",
    "\n",
    "feature_names = [feature_names[i] for i in ch2.get_support(indices=True)]\n",
    "print(\"done in %fs\" % (time() - t0))\n",
    "print()\n",
    "\n",
    "\n",
    "feature_names = np.asarray(feature_names)\n",
    "\n"
   ]
  },
  {
   "cell_type": "code",
   "execution_count": 24,
   "metadata": {},
   "outputs": [
    {
     "name": "stdout",
     "output_type": "stream",
     "text": [
      "[nltk_data] Downloading package stopwords to\n",
      "[nltk_data]     /Users/joseeleandrocustodio/nltk_data...\n",
      "[nltk_data]   Unzipping corpora/stopwords.zip.\n"
     ]
    },
    {
     "data": {
      "text/plain": [
       "True"
      ]
     },
     "execution_count": 24,
     "metadata": {},
     "output_type": "execute_result"
    }
   ],
   "source": [
    "import nltk\n",
    "nltk.download('stopwords')"
   ]
  },
  {
   "cell_type": "code",
   "execution_count": 6,
   "metadata": {},
   "outputs": [
    {
     "data": {
      "text/plain": [
       "u\"Hi,\\n\\nI've noticed that if you only save a model (with all your mapping planes\\npositioned carefully) to a .3DS file that when you reload it after restarting\\n3DS, they are given a default position and orientation.  But if you save\\nto a .PRJ file their positions/orientation are preserved.  Does anyone\\nknow why this information is not stored in the .3DS file?  Nothing is\\nexplicitly said in the manual about saving texture rules in the .PRJ file. \\nI'd like to be able to read the texture rule information, does anyone have \\nthe format for the .PRJ file?\\n\\nIs the .CEL file format available from somewhere?\\n\\nRych\""
      ]
     },
     "execution_count": 6,
     "metadata": {},
     "output_type": "execute_result"
    }
   ],
   "source": [
    "data_train.data[0]"
   ]
  },
  {
   "cell_type": "code",
   "execution_count": 59,
   "metadata": {},
   "outputs": [],
   "source": [
    "def splitNgrams(doc, ngrams=3):\n",
    "    from nltk.tokenize import word_tokenize\n",
    "    from nltk.stem.porter import PorterStemmer\n",
    "    stemmer = PorterStemmer()\n",
    "    doc = re.sub(r'\\_|\\/|=',' ',doc)\n",
    "    doc = re.sub(r'\\d+','*',doc)\n",
    "    #from nltk.corpus import stopwords\n",
    "    #stopwords.words('english')\n",
    "    #return [doc[i:(i+ngrams)] for i in range(len(doc)-ngrams)]\n",
    "    return [t for t in word_tokenize(doc.lower()) if len(t)>3]"
   ]
  },
  {
   "cell_type": "code",
   "execution_count": 33,
   "metadata": {},
   "outputs": [],
   "source": [
    "from gensim.models.doc2vec import TaggedDocument, Doc2Vec"
   ]
  },
  {
   "cell_type": "code",
   "execution_count": 34,
   "metadata": {},
   "outputs": [],
   "source": [
    "from collections import Counter\n",
    "import string\n"
   ]
  },
  {
   "cell_type": "code",
   "execution_count": 58,
   "metadata": {
    "scrolled": false
   },
   "outputs": [
    {
     "name": "stderr",
     "output_type": "stream",
     "text": [
      "2018-07-15 11:47:34,020 WARNING consider setting layer size to a multiple of 4 for greater performance\n",
      "2018-07-15 11:47:34,024 INFO collecting all words and their counts\n",
      "2018-07-15 11:47:34,025 INFO PROGRESS: at example #0, processed 0 words (0/s), 0 word types, 0 tags\n",
      "2018-07-15 11:47:34,151 INFO collected 27488 word types and 315 unique tags from a corpus of 2647 examples and 268361 words\n",
      "2018-07-15 11:47:34,153 INFO Loading a fresh vocabulary\n",
      "2018-07-15 11:47:34,195 INFO min_count=10 retains 4038 unique words (14% of original 27488, drops 23450)\n",
      "2018-07-15 11:47:34,196 INFO min_count=10 leaves 216589 word corpus (80% of original 268361, drops 51772)\n",
      "2018-07-15 11:47:34,211 INFO deleting the raw counts dictionary of 27488 items\n",
      "2018-07-15 11:47:34,213 INFO sample=0.001 downsamples 43 most-common words\n",
      "2018-07-15 11:47:34,215 INFO downsampling leaves estimated 195558 word corpus (90.3% of prior 216589)\n",
      "2018-07-15 11:47:34,236 INFO estimated required memory for 4038 words and 150 dimensions: 7115600 bytes\n",
      "2018-07-15 11:47:34,237 INFO resetting layer weights\n",
      "2018-07-15 11:47:34,309 INFO training model with -1 workers on 4038 vocabulary and 150 features, using sg=0 hs=0 sample=0.001 negative=5 window=10\n",
      "2018-07-15 11:47:34,314 INFO EPOCH - 1 : training on 0 raw words (0 effective words) took 0.0s, 0 effective words/s\n",
      "2018-07-15 11:47:34,320 WARNING EPOCH - 1 : supplied example count (0) did not equal expected count (2647)\n",
      "2018-07-15 11:47:34,329 INFO EPOCH - 2 : training on 0 raw words (0 effective words) took 0.0s, 0 effective words/s\n",
      "2018-07-15 11:47:34,331 WARNING EPOCH - 2 : supplied example count (0) did not equal expected count (2647)\n",
      "2018-07-15 11:47:34,342 INFO EPOCH - 3 : training on 0 raw words (0 effective words) took 0.0s, 0 effective words/s\n",
      "2018-07-15 11:47:34,344 WARNING EPOCH - 3 : supplied example count (0) did not equal expected count (2647)\n",
      "2018-07-15 11:47:34,352 INFO EPOCH - 4 : training on 0 raw words (0 effective words) took 0.0s, 0 effective words/s\n",
      "2018-07-15 11:47:34,358 WARNING EPOCH - 4 : supplied example count (0) did not equal expected count (2647)\n",
      "2018-07-15 11:47:34,370 INFO EPOCH - 5 : training on 0 raw words (0 effective words) took 0.0s, 0 effective words/s\n",
      "2018-07-15 11:47:34,372 WARNING EPOCH - 5 : supplied example count (0) did not equal expected count (2647)\n",
      "2018-07-15 11:47:34,373 INFO training on a 0 raw words (0 effective words) took 0.1s, 0 effective words/s\n",
      "2018-07-15 11:47:34,378 WARNING Effective 'alpha' higher than previous training cycles\n",
      "2018-07-15 11:47:34,380 INFO training model with -1 workers on 4038 vocabulary and 150 features, using sg=0 hs=0 sample=0.001 negative=5 window=10\n",
      "2018-07-15 11:47:34,388 INFO EPOCH - 1 : training on 0 raw words (0 effective words) took 0.0s, 0 effective words/s\n",
      "2018-07-15 11:47:34,398 WARNING EPOCH - 1 : supplied example count (0) did not equal expected count (2647)\n",
      "2018-07-15 11:47:34,408 INFO EPOCH - 2 : training on 0 raw words (0 effective words) took 0.0s, 0 effective words/s\n",
      "2018-07-15 11:47:34,411 WARNING EPOCH - 2 : supplied example count (0) did not equal expected count (2647)\n",
      "2018-07-15 11:47:34,414 INFO EPOCH - 3 : training on 0 raw words (0 effective words) took 0.0s, 0 effective words/s\n",
      "2018-07-15 11:47:34,425 WARNING EPOCH - 3 : supplied example count (0) did not equal expected count (2647)\n",
      "2018-07-15 11:47:34,434 INFO EPOCH - 4 : training on 0 raw words (0 effective words) took 0.0s, 0 effective words/s\n",
      "2018-07-15 11:47:34,436 WARNING EPOCH - 4 : supplied example count (0) did not equal expected count (2647)\n",
      "2018-07-15 11:47:34,448 INFO EPOCH - 5 : training on 0 raw words (0 effective words) took 0.0s, 0 effective words/s\n",
      "2018-07-15 11:47:34,450 WARNING EPOCH - 5 : supplied example count (0) did not equal expected count (2647)\n",
      "2018-07-15 11:47:34,452 INFO training on a 0 raw words (0 effective words) took 0.1s, 0 effective words/s\n",
      "2018-07-15 11:47:34,456 WARNING Effective 'alpha' higher than previous training cycles\n",
      "2018-07-15 11:47:34,458 INFO training model with -1 workers on 4038 vocabulary and 150 features, using sg=0 hs=0 sample=0.001 negative=5 window=10\n",
      "2018-07-15 11:47:34,467 INFO EPOCH - 1 : training on 0 raw words (0 effective words) took 0.0s, 0 effective words/s\n",
      "2018-07-15 11:47:34,468 WARNING EPOCH - 1 : supplied example count (0) did not equal expected count (2647)\n",
      "2018-07-15 11:47:34,479 INFO EPOCH - 2 : training on 0 raw words (0 effective words) took 0.0s, 0 effective words/s\n",
      "2018-07-15 11:47:34,481 WARNING EPOCH - 2 : supplied example count (0) did not equal expected count (2647)\n",
      "2018-07-15 11:47:34,487 INFO EPOCH - 3 : training on 0 raw words (0 effective words) took 0.0s, 0 effective words/s\n",
      "2018-07-15 11:47:34,491 WARNING EPOCH - 3 : supplied example count (0) did not equal expected count (2647)\n",
      "2018-07-15 11:47:34,499 INFO EPOCH - 4 : training on 0 raw words (0 effective words) took 0.0s, 0 effective words/s\n",
      "2018-07-15 11:47:34,505 WARNING EPOCH - 4 : supplied example count (0) did not equal expected count (2647)\n"
     ]
    },
    {
     "name": "stdout",
     "output_type": "stream",
     "text": [
      "Iteration 0 \n",
      "Iteration 1 \n",
      "Iteration 2 \n"
     ]
    },
    {
     "name": "stderr",
     "output_type": "stream",
     "text": [
      "2018-07-15 11:47:34,511 INFO EPOCH - 5 : training on 0 raw words (0 effective words) took 0.0s, 0 effective words/s\n",
      "2018-07-15 11:47:34,519 WARNING EPOCH - 5 : supplied example count (0) did not equal expected count (2647)\n",
      "2018-07-15 11:47:34,520 INFO training on a 0 raw words (0 effective words) took 0.1s, 0 effective words/s\n",
      "2018-07-15 11:47:34,525 WARNING Effective 'alpha' higher than previous training cycles\n",
      "2018-07-15 11:47:34,527 INFO training model with -1 workers on 4038 vocabulary and 150 features, using sg=0 hs=0 sample=0.001 negative=5 window=10\n",
      "2018-07-15 11:47:34,538 INFO EPOCH - 1 : training on 0 raw words (0 effective words) took 0.0s, 0 effective words/s\n",
      "2018-07-15 11:47:34,540 WARNING EPOCH - 1 : supplied example count (0) did not equal expected count (2647)\n",
      "2018-07-15 11:47:34,543 INFO EPOCH - 2 : training on 0 raw words (0 effective words) took 0.0s, 0 effective words/s\n",
      "2018-07-15 11:47:34,553 WARNING EPOCH - 2 : supplied example count (0) did not equal expected count (2647)\n",
      "2018-07-15 11:47:34,557 INFO EPOCH - 3 : training on 0 raw words (0 effective words) took 0.0s, 0 effective words/s\n",
      "2018-07-15 11:47:34,566 WARNING EPOCH - 3 : supplied example count (0) did not equal expected count (2647)\n",
      "2018-07-15 11:47:34,572 INFO EPOCH - 4 : training on 0 raw words (0 effective words) took 0.0s, 0 effective words/s\n",
      "2018-07-15 11:47:34,578 WARNING EPOCH - 4 : supplied example count (0) did not equal expected count (2647)\n",
      "2018-07-15 11:47:34,581 INFO EPOCH - 5 : training on 0 raw words (0 effective words) took 0.0s, 0 effective words/s\n",
      "2018-07-15 11:47:34,591 WARNING EPOCH - 5 : supplied example count (0) did not equal expected count (2647)\n",
      "2018-07-15 11:47:34,593 INFO training on a 0 raw words (0 effective words) took 0.1s, 0 effective words/s\n",
      "2018-07-15 11:47:34,597 WARNING Effective 'alpha' higher than previous training cycles\n",
      "2018-07-15 11:47:34,599 INFO training model with -1 workers on 4038 vocabulary and 150 features, using sg=0 hs=0 sample=0.001 negative=5 window=10\n",
      "2018-07-15 11:47:34,610 INFO EPOCH - 1 : training on 0 raw words (0 effective words) took 0.0s, 0 effective words/s\n",
      "2018-07-15 11:47:34,611 WARNING EPOCH - 1 : supplied example count (0) did not equal expected count (2647)\n",
      "2018-07-15 11:47:34,620 INFO EPOCH - 2 : training on 0 raw words (0 effective words) took 0.0s, 0 effective words/s\n",
      "2018-07-15 11:47:34,622 WARNING EPOCH - 2 : supplied example count (0) did not equal expected count (2647)\n",
      "2018-07-15 11:47:34,631 INFO EPOCH - 3 : training on 0 raw words (0 effective words) took 0.0s, 0 effective words/s\n",
      "2018-07-15 11:47:34,632 WARNING EPOCH - 3 : supplied example count (0) did not equal expected count (2647)\n",
      "2018-07-15 11:47:34,638 INFO EPOCH - 4 : training on 0 raw words (0 effective words) took 0.0s, 0 effective words/s\n",
      "2018-07-15 11:47:34,643 WARNING EPOCH - 4 : supplied example count (0) did not equal expected count (2647)\n",
      "2018-07-15 11:47:34,649 INFO EPOCH - 5 : training on 0 raw words (0 effective words) took 0.0s, 0 effective words/s\n",
      "2018-07-15 11:47:34,657 WARNING EPOCH - 5 : supplied example count (0) did not equal expected count (2647)\n",
      "2018-07-15 11:47:34,658 INFO training on a 0 raw words (0 effective words) took 0.1s, 0 effective words/s\n",
      "2018-07-15 11:47:34,663 WARNING Effective 'alpha' higher than previous training cycles\n",
      "2018-07-15 11:47:34,664 INFO training model with -1 workers on 4038 vocabulary and 150 features, using sg=0 hs=0 sample=0.001 negative=5 window=10\n",
      "2018-07-15 11:47:34,669 INFO EPOCH - 1 : training on 0 raw words (0 effective words) took 0.0s, 0 effective words/s\n",
      "2018-07-15 11:47:34,678 WARNING EPOCH - 1 : supplied example count (0) did not equal expected count (2647)\n",
      "2018-07-15 11:47:34,682 INFO EPOCH - 2 : training on 0 raw words (0 effective words) took 0.0s, 0 effective words/s\n",
      "2018-07-15 11:47:34,688 WARNING EPOCH - 2 : supplied example count (0) did not equal expected count (2647)\n",
      "2018-07-15 11:47:34,697 INFO EPOCH - 3 : training on 0 raw words (0 effective words) took 0.0s, 0 effective words/s\n",
      "2018-07-15 11:47:34,699 WARNING EPOCH - 3 : supplied example count (0) did not equal expected count (2647)\n",
      "2018-07-15 11:47:34,704 INFO EPOCH - 4 : training on 0 raw words (0 effective words) took 0.0s, 0 effective words/s\n",
      "2018-07-15 11:47:34,710 WARNING EPOCH - 4 : supplied example count (0) did not equal expected count (2647)\n",
      "2018-07-15 11:47:34,719 INFO EPOCH - 5 : training on 0 raw words (0 effective words) took 0.0s, 0 effective words/s\n"
     ]
    },
    {
     "name": "stdout",
     "output_type": "stream",
     "text": [
      "Iteration 3 \n",
      "Iteration 4 \n",
      "Iteration 5 \n"
     ]
    },
    {
     "name": "stderr",
     "output_type": "stream",
     "text": [
      "2018-07-15 11:47:34,727 WARNING EPOCH - 5 : supplied example count (0) did not equal expected count (2647)\n",
      "2018-07-15 11:47:34,729 INFO training on a 0 raw words (0 effective words) took 0.1s, 0 effective words/s\n",
      "2018-07-15 11:47:34,734 WARNING Effective 'alpha' higher than previous training cycles\n",
      "2018-07-15 11:47:34,735 INFO training model with -1 workers on 4038 vocabulary and 150 features, using sg=0 hs=0 sample=0.001 negative=5 window=10\n",
      "2018-07-15 11:47:34,738 INFO EPOCH - 1 : training on 0 raw words (0 effective words) took 0.0s, 0 effective words/s\n",
      "2018-07-15 11:47:34,749 WARNING EPOCH - 1 : supplied example count (0) did not equal expected count (2647)\n",
      "2018-07-15 11:47:34,757 INFO EPOCH - 2 : training on 0 raw words (0 effective words) took 0.0s, 0 effective words/s\n",
      "2018-07-15 11:47:34,761 WARNING EPOCH - 2 : supplied example count (0) did not equal expected count (2647)\n",
      "2018-07-15 11:47:34,766 INFO EPOCH - 3 : training on 0 raw words (0 effective words) took 0.0s, 0 effective words/s\n",
      "2018-07-15 11:47:34,775 WARNING EPOCH - 3 : supplied example count (0) did not equal expected count (2647)\n",
      "2018-07-15 11:47:34,780 INFO EPOCH - 4 : training on 0 raw words (0 effective words) took 0.0s, 0 effective words/s\n",
      "2018-07-15 11:47:34,784 WARNING EPOCH - 4 : supplied example count (0) did not equal expected count (2647)\n",
      "2018-07-15 11:47:34,793 INFO EPOCH - 5 : training on 0 raw words (0 effective words) took 0.0s, 0 effective words/s\n",
      "2018-07-15 11:47:34,799 WARNING EPOCH - 5 : supplied example count (0) did not equal expected count (2647)\n",
      "2018-07-15 11:47:34,801 INFO training on a 0 raw words (0 effective words) took 0.1s, 0 effective words/s\n",
      "2018-07-15 11:47:34,807 WARNING Effective 'alpha' higher than previous training cycles\n",
      "2018-07-15 11:47:34,809 INFO training model with -1 workers on 4038 vocabulary and 150 features, using sg=0 hs=0 sample=0.001 negative=5 window=10\n",
      "2018-07-15 11:47:34,813 INFO EPOCH - 1 : training on 0 raw words (0 effective words) took 0.0s, 0 effective words/s\n",
      "2018-07-15 11:47:34,817 WARNING EPOCH - 1 : supplied example count (0) did not equal expected count (2647)\n",
      "2018-07-15 11:47:34,832 INFO EPOCH - 2 : training on 0 raw words (0 effective words) took 0.0s, 0 effective words/s\n",
      "2018-07-15 11:47:34,833 WARNING EPOCH - 2 : supplied example count (0) did not equal expected count (2647)\n",
      "2018-07-15 11:47:34,840 INFO EPOCH - 3 : training on 0 raw words (0 effective words) took 0.0s, 0 effective words/s\n",
      "2018-07-15 11:47:34,845 WARNING EPOCH - 3 : supplied example count (0) did not equal expected count (2647)\n",
      "2018-07-15 11:47:34,856 INFO EPOCH - 4 : training on 0 raw words (0 effective words) took 0.0s, 0 effective words/s\n",
      "2018-07-15 11:47:34,858 WARNING EPOCH - 4 : supplied example count (0) did not equal expected count (2647)\n",
      "2018-07-15 11:47:34,864 INFO EPOCH - 5 : training on 0 raw words (0 effective words) took 0.0s, 0 effective words/s\n",
      "2018-07-15 11:47:34,870 WARNING EPOCH - 5 : supplied example count (0) did not equal expected count (2647)\n",
      "2018-07-15 11:47:34,874 INFO training on a 0 raw words (0 effective words) took 0.1s, 0 effective words/s\n",
      "2018-07-15 11:47:34,878 WARNING Effective 'alpha' higher than previous training cycles\n",
      "2018-07-15 11:47:34,879 INFO training model with -1 workers on 4038 vocabulary and 150 features, using sg=0 hs=0 sample=0.001 negative=5 window=10\n",
      "2018-07-15 11:47:34,890 INFO EPOCH - 1 : training on 0 raw words (0 effective words) took 0.0s, 0 effective words/s\n",
      "2018-07-15 11:47:34,892 WARNING EPOCH - 1 : supplied example count (0) did not equal expected count (2647)\n",
      "2018-07-15 11:47:34,902 INFO EPOCH - 2 : training on 0 raw words (0 effective words) took 0.0s, 0 effective words/s\n",
      "2018-07-15 11:47:34,904 WARNING EPOCH - 2 : supplied example count (0) did not equal expected count (2647)\n",
      "2018-07-15 11:47:34,915 INFO EPOCH - 3 : training on 0 raw words (0 effective words) took 0.0s, 0 effective words/s\n",
      "2018-07-15 11:47:34,918 WARNING EPOCH - 3 : supplied example count (0) did not equal expected count (2647)\n",
      "2018-07-15 11:47:34,925 INFO EPOCH - 4 : training on 0 raw words (0 effective words) took 0.0s, 0 effective words/s\n",
      "2018-07-15 11:47:34,929 WARNING EPOCH - 4 : supplied example count (0) did not equal expected count (2647)\n"
     ]
    },
    {
     "name": "stdout",
     "output_type": "stream",
     "text": [
      "Iteration 6 \n",
      "Iteration 7 \n",
      "Iteration 8 \n"
     ]
    },
    {
     "name": "stderr",
     "output_type": "stream",
     "text": [
      "2018-07-15 11:47:34,935 INFO EPOCH - 5 : training on 0 raw words (0 effective words) took 0.0s, 0 effective words/s\n",
      "2018-07-15 11:47:34,944 WARNING EPOCH - 5 : supplied example count (0) did not equal expected count (2647)\n",
      "2018-07-15 11:47:34,945 INFO training on a 0 raw words (0 effective words) took 0.1s, 0 effective words/s\n",
      "2018-07-15 11:47:34,952 WARNING Effective 'alpha' higher than previous training cycles\n",
      "2018-07-15 11:47:34,953 INFO training model with -1 workers on 4038 vocabulary and 150 features, using sg=0 hs=0 sample=0.001 negative=5 window=10\n",
      "2018-07-15 11:47:34,961 INFO EPOCH - 1 : training on 0 raw words (0 effective words) took 0.0s, 0 effective words/s\n",
      "2018-07-15 11:47:34,967 WARNING EPOCH - 1 : supplied example count (0) did not equal expected count (2647)\n",
      "2018-07-15 11:47:34,973 INFO EPOCH - 2 : training on 0 raw words (0 effective words) took 0.0s, 0 effective words/s\n",
      "2018-07-15 11:47:34,980 WARNING EPOCH - 2 : supplied example count (0) did not equal expected count (2647)\n",
      "2018-07-15 11:47:34,988 INFO EPOCH - 3 : training on 0 raw words (0 effective words) took 0.0s, 0 effective words/s\n",
      "2018-07-15 11:47:34,995 WARNING EPOCH - 3 : supplied example count (0) did not equal expected count (2647)\n",
      "2018-07-15 11:47:34,998 INFO EPOCH - 4 : training on 0 raw words (0 effective words) took 0.0s, 0 effective words/s\n",
      "2018-07-15 11:47:35,010 WARNING EPOCH - 4 : supplied example count (0) did not equal expected count (2647)\n",
      "2018-07-15 11:47:35,013 INFO EPOCH - 5 : training on 0 raw words (0 effective words) took 0.0s, 0 effective words/s\n",
      "2018-07-15 11:47:35,025 WARNING EPOCH - 5 : supplied example count (0) did not equal expected count (2647)\n",
      "2018-07-15 11:47:35,027 INFO training on a 0 raw words (0 effective words) took 0.1s, 0 effective words/s\n",
      "2018-07-15 11:47:35,031 WARNING Effective 'alpha' higher than previous training cycles\n",
      "2018-07-15 11:47:35,033 INFO training model with -1 workers on 4038 vocabulary and 150 features, using sg=0 hs=0 sample=0.001 negative=5 window=10\n",
      "2018-07-15 11:47:35,039 INFO EPOCH - 1 : training on 0 raw words (0 effective words) took 0.0s, 0 effective words/s\n",
      "2018-07-15 11:47:35,047 WARNING EPOCH - 1 : supplied example count (0) did not equal expected count (2647)\n",
      "2018-07-15 11:47:35,057 INFO EPOCH - 2 : training on 0 raw words (0 effective words) took 0.0s, 0 effective words/s\n",
      "2018-07-15 11:47:35,060 WARNING EPOCH - 2 : supplied example count (0) did not equal expected count (2647)\n",
      "2018-07-15 11:47:35,064 INFO EPOCH - 3 : training on 0 raw words (0 effective words) took 0.0s, 0 effective words/s\n",
      "2018-07-15 11:47:35,071 WARNING EPOCH - 3 : supplied example count (0) did not equal expected count (2647)\n",
      "2018-07-15 11:47:35,078 INFO EPOCH - 4 : training on 0 raw words (0 effective words) took 0.0s, 0 effective words/s\n",
      "2018-07-15 11:47:35,080 WARNING EPOCH - 4 : supplied example count (0) did not equal expected count (2647)\n",
      "2018-07-15 11:47:35,092 INFO EPOCH - 5 : training on 0 raw words (0 effective words) took 0.0s, 0 effective words/s\n",
      "2018-07-15 11:47:35,103 WARNING EPOCH - 5 : supplied example count (0) did not equal expected count (2647)\n",
      "2018-07-15 11:47:35,105 INFO training on a 0 raw words (0 effective words) took 0.1s, 0 effective words/s\n",
      "2018-07-15 11:47:35,110 WARNING Effective 'alpha' higher than previous training cycles\n",
      "2018-07-15 11:47:35,112 INFO training model with -1 workers on 4038 vocabulary and 150 features, using sg=0 hs=0 sample=0.001 negative=5 window=10\n",
      "2018-07-15 11:47:35,117 INFO EPOCH - 1 : training on 0 raw words (0 effective words) took 0.0s, 0 effective words/s\n",
      "2018-07-15 11:47:35,125 WARNING EPOCH - 1 : supplied example count (0) did not equal expected count (2647)\n",
      "2018-07-15 11:47:35,129 INFO EPOCH - 2 : training on 0 raw words (0 effective words) took 0.0s, 0 effective words/s\n",
      "2018-07-15 11:47:35,139 WARNING EPOCH - 2 : supplied example count (0) did not equal expected count (2647)\n",
      "2018-07-15 11:47:35,147 INFO EPOCH - 3 : training on 0 raw words (0 effective words) took 0.0s, 0 effective words/s\n",
      "2018-07-15 11:47:35,148 WARNING EPOCH - 3 : supplied example count (0) did not equal expected count (2647)\n"
     ]
    },
    {
     "name": "stdout",
     "output_type": "stream",
     "text": [
      "Iteration 9 \n",
      "Iteration 10 \n",
      "Iteration 11 \n"
     ]
    },
    {
     "name": "stderr",
     "output_type": "stream",
     "text": [
      "2018-07-15 11:47:35,153 INFO EPOCH - 4 : training on 0 raw words (0 effective words) took 0.0s, 0 effective words/s\n",
      "2018-07-15 11:47:35,162 WARNING EPOCH - 4 : supplied example count (0) did not equal expected count (2647)\n",
      "2018-07-15 11:47:35,170 INFO EPOCH - 5 : training on 0 raw words (0 effective words) took 0.0s, 0 effective words/s\n",
      "2018-07-15 11:47:35,175 WARNING EPOCH - 5 : supplied example count (0) did not equal expected count (2647)\n",
      "2018-07-15 11:47:35,176 INFO training on a 0 raw words (0 effective words) took 0.1s, 0 effective words/s\n",
      "2018-07-15 11:47:35,181 WARNING Effective 'alpha' higher than previous training cycles\n",
      "2018-07-15 11:47:35,182 INFO training model with -1 workers on 4038 vocabulary and 150 features, using sg=0 hs=0 sample=0.001 negative=5 window=10\n",
      "2018-07-15 11:47:35,192 INFO EPOCH - 1 : training on 0 raw words (0 effective words) took 0.0s, 0 effective words/s\n",
      "2018-07-15 11:47:35,194 WARNING EPOCH - 1 : supplied example count (0) did not equal expected count (2647)\n",
      "2018-07-15 11:47:35,197 INFO EPOCH - 2 : training on 0 raw words (0 effective words) took 0.0s, 0 effective words/s\n",
      "2018-07-15 11:47:35,206 WARNING EPOCH - 2 : supplied example count (0) did not equal expected count (2647)\n",
      "2018-07-15 11:47:35,212 INFO EPOCH - 3 : training on 0 raw words (0 effective words) took 0.0s, 0 effective words/s\n",
      "2018-07-15 11:47:35,215 WARNING EPOCH - 3 : supplied example count (0) did not equal expected count (2647)\n",
      "2018-07-15 11:47:35,224 INFO EPOCH - 4 : training on 0 raw words (0 effective words) took 0.0s, 0 effective words/s\n",
      "2018-07-15 11:47:35,226 WARNING EPOCH - 4 : supplied example count (0) did not equal expected count (2647)\n",
      "2018-07-15 11:47:35,231 INFO EPOCH - 5 : training on 0 raw words (0 effective words) took 0.0s, 0 effective words/s\n",
      "2018-07-15 11:47:35,238 WARNING EPOCH - 5 : supplied example count (0) did not equal expected count (2647)\n",
      "2018-07-15 11:47:35,239 INFO training on a 0 raw words (0 effective words) took 0.1s, 0 effective words/s\n",
      "2018-07-15 11:47:35,244 WARNING Effective 'alpha' higher than previous training cycles\n",
      "2018-07-15 11:47:35,246 INFO training model with -1 workers on 4038 vocabulary and 150 features, using sg=0 hs=0 sample=0.001 negative=5 window=10\n",
      "2018-07-15 11:47:35,248 INFO EPOCH - 1 : training on 0 raw words (0 effective words) took 0.0s, 0 effective words/s\n",
      "2018-07-15 11:47:35,256 WARNING EPOCH - 1 : supplied example count (0) did not equal expected count (2647)\n",
      "2018-07-15 11:47:35,262 INFO EPOCH - 2 : training on 0 raw words (0 effective words) took 0.0s, 0 effective words/s\n",
      "2018-07-15 11:47:35,271 WARNING EPOCH - 2 : supplied example count (0) did not equal expected count (2647)\n",
      "2018-07-15 11:47:35,278 INFO EPOCH - 3 : training on 0 raw words (0 effective words) took 0.0s, 0 effective words/s\n",
      "2018-07-15 11:47:35,280 WARNING EPOCH - 3 : supplied example count (0) did not equal expected count (2647)\n",
      "2018-07-15 11:47:35,284 INFO EPOCH - 4 : training on 0 raw words (0 effective words) took 0.0s, 0 effective words/s\n",
      "2018-07-15 11:47:35,290 WARNING EPOCH - 4 : supplied example count (0) did not equal expected count (2647)\n",
      "2018-07-15 11:47:35,293 INFO EPOCH - 5 : training on 0 raw words (0 effective words) took 0.0s, 0 effective words/s\n",
      "2018-07-15 11:47:35,304 WARNING EPOCH - 5 : supplied example count (0) did not equal expected count (2647)\n",
      "2018-07-15 11:47:35,306 INFO training on a 0 raw words (0 effective words) took 0.1s, 0 effective words/s\n",
      "2018-07-15 11:47:35,310 WARNING Effective 'alpha' higher than previous training cycles\n",
      "2018-07-15 11:47:35,312 INFO training model with -1 workers on 4038 vocabulary and 150 features, using sg=0 hs=0 sample=0.001 negative=5 window=10\n",
      "2018-07-15 11:47:35,319 INFO EPOCH - 1 : training on 0 raw words (0 effective words) took 0.0s, 0 effective words/s\n",
      "2018-07-15 11:47:35,321 WARNING EPOCH - 1 : supplied example count (0) did not equal expected count (2647)\n",
      "2018-07-15 11:47:35,324 INFO EPOCH - 2 : training on 0 raw words (0 effective words) took 0.0s, 0 effective words/s\n",
      "2018-07-15 11:47:35,332 WARNING EPOCH - 2 : supplied example count (0) did not equal expected count (2647)\n",
      "2018-07-15 11:47:35,337 INFO EPOCH - 3 : training on 0 raw words (0 effective words) took 0.0s, 0 effective words/s\n",
      "2018-07-15 11:47:35,347 WARNING EPOCH - 3 : supplied example count (0) did not equal expected count (2647)\n",
      "2018-07-15 11:47:35,354 INFO EPOCH - 4 : training on 0 raw words (0 effective words) took 0.0s, 0 effective words/s\n",
      "2018-07-15 11:47:35,356 WARNING EPOCH - 4 : supplied example count (0) did not equal expected count (2647)\n",
      "2018-07-15 11:47:35,363 INFO EPOCH - 5 : training on 0 raw words (0 effective words) took 0.0s, 0 effective words/s\n",
      "2018-07-15 11:47:35,368 WARNING EPOCH - 5 : supplied example count (0) did not equal expected count (2647)\n",
      "2018-07-15 11:47:35,370 INFO training on a 0 raw words (0 effective words) took 0.1s, 0 effective words/s\n"
     ]
    },
    {
     "name": "stdout",
     "output_type": "stream",
     "text": [
      "Iteration 12 \n",
      "Iteration 13 \n",
      "Iteration 14 \n"
     ]
    }
   ],
   "source": [
    "sentences = [TaggedDocument(words=splitNgrams(w), tags=[t]) for w,t in  zip(data_train.data, data_train.target)]\n",
    "model = Doc2Vec(vector_size=150, \n",
    "                window=10,\n",
    "                min_count=10,\n",
    "                workers=-1,\n",
    "                alpha=0.025,\n",
    "                min_alpha=0.00025\n",
    "                ) # use fixed learning rate\n",
    "model.build_vocab(sentences);\n",
    "model.random.seed(0);\n",
    "random.seed(4);\n",
    "seq = np.arange(len(sentences));\n",
    "for epoch in range(15):\n",
    "    print (\"Iteration %s \"% epoch)\n",
    "    model.train(sentences,total_examples=model.corpus_count, epochs=model.epochs)\n",
    "    model.alpha -= 0.0002 # decrease the learning rate\n",
    "    model.min_alpha = model.alpha/100.0 # fix the learning rate, no deca\n",
    "    random.shuffle(sentences)"
   ]
  },
  {
   "cell_type": "code",
   "execution_count": 60,
   "metadata": {},
   "outputs": [],
   "source": [
    "model.random.seed(0)\n",
    "train_vector = np.vstack([\n",
    "     model.infer_vector( doc_words=splitNgrams(d),steps=40) for d in data_train.data\n",
    "]);\n",
    "test_vector = np.vstack([\n",
    "     model.infer_vector( doc_words=splitNgrams(d),steps=40) for d in data_test.data\n",
    "])"
   ]
  },
  {
   "cell_type": "code",
   "execution_count": 65,
   "metadata": {},
   "outputs": [],
   "source": [
    "def plotModel(vectors,labels):\n",
    "    from sklearn.manifold import TSNE, Isomap\n",
    "    pca = PCA(2)\n",
    "    comps = np.round(pca.fit_transform(vectors),2)\n",
    "    plt.figure(figsize=(10,5))\n",
    "    plt.scatter(comps[:,0],comps[:,1],cmap=plt.cm.jet,c=labels)\n",
    "    for i,label in  enumerate(labels):\n",
    "        plt.text(comps[i,0], comps[i,1], label)"
   ]
  },
  {
   "cell_type": "code",
   "execution_count": 66,
   "metadata": {},
   "outputs": [
    {
     "data": {
      "image/png": "[encoded data removed]",
      "text/plain": [
       "<Figure size 720x360 with 1 Axes>"
      ]
     },
     "metadata": {},
     "output_type": "display_data"
    }
   ],
   "source": [
    "plotModel(train_vector, data_train.target)"
   ]
  },
  {
   "cell_type": "code",
   "execution_count": 68,
   "metadata": {},
   "outputs": [
    {
     "data": {
      "image/png": "[encoded data removed]",
      "text/plain": [
       "<Figure size 720x360 with 1 Axes>"
      ]
     },
     "metadata": {},
     "output_type": "display_data"
    }
   ],
   "source": [
    "plotModel(test_vector, data_test.target)"
   ]
  },
  {
   "cell_type": "code",
   "execution_count": 70,
   "metadata": {},
   "outputs": [],
   "source": [
    "def plot_confusion_matrix(cm, classes,\n",
    "                          normalize=False,\n",
    "                          title='Confusion matrix',\n",
    "                          cmap=plt.cm.Blues):\n",
    "    \"\"\"\n",
    "    This function prints and plots the confusion matrix.\n",
    "    Normalization can be applied by setting `normalize=True`.\n",
    "    \"\"\"\n",
    "    if normalize:\n",
    "        cm = cm.astype('float') / cm.sum(axis=1)[:, np.newaxis]\n",
    "        print(\"Normalized confusion matrix\")\n",
    "    else:\n",
    "        print('Confusion matrix, without normalization')\n",
    "\n",
    "    #print(cm)\n",
    "\n",
    "    plt.imshow(cm, interpolation='nearest', cmap=cmap)\n",
    "    plt.title(title)\n",
    "    plt.colorbar()\n",
    "    tick_marks = np.arange(len(classes))\n",
    "    plt.xticks(tick_marks, classes, rotation=45)\n",
    "    plt.yticks(tick_marks, classes)\n",
    "\n",
    "    fmt = '.2f' if normalize else 'd'\n",
    "    thresh = cm.max() / 2.\n",
    "    for i, j in itertools.product(range(cm.shape[0]), range(cm.shape[1])):\n",
    "        plt.text(j, i, format(cm[i, j], fmt),\n",
    "                 horizontalalignment=\"center\",\n",
    "                 color=\"white\" if cm[i, j] > thresh else \"black\")\n",
    "\n",
    "    plt.tight_layout()\n",
    "    plt.ylabel('True label')\n",
    "    plt.xlabel('Predicted label')"
   ]
  },
  {
   "cell_type": "code",
   "execution_count": 69,
   "metadata": {},
   "outputs": [
    {
     "data": {
      "text/plain": [
       "LogisticRegression(C=1.0, class_weight=None, dual=False, fit_intercept=True,\n",
       "          intercept_scaling=1, max_iter=100, multi_class='ovr', n_jobs=1,\n",
       "          penalty='l2', random_state=None, solver='liblinear', tol=0.0001,\n",
       "          verbose=0, warm_start=False)"
      ]
     },
     "execution_count": 69,
     "metadata": {},
     "output_type": "execute_result"
    }
   ],
   "source": [
    "clf = LogisticRegression();\n",
    "clf.fit(train_vector, data_train.target)\n",
    "pred = clf.predict(test_vector)"
   ]
  },
  {
   "cell_type": "code",
   "execution_count": null,
   "metadata": {},
   "outputs": [],
   "source": [
    "from sklearn.metrics import confusion_matrix,precision_recall_fscore_support, classification_report\n",
    "plt.figure(figsize=(10,10))\n",
    "plot_confusion_matrix(confusion_matrix(pred, data_test.target),classes=[c[-2:] for c in clf.classes_])\n",
    "print(classification_report(pred, data_test.target))"
   ]
  }
 ],
 "metadata": {
  "kernelspec": {
   "display_name": "Python 2",
   "language": "python",
   "name": "python2"
  },
  "language_info": {
   "codemirror_mode": {
    "name": "ipython",
    "version": 2
   },
   "file_extension": ".py",
   "mimetype": "text/x-python",
   "name": "python",
   "nbconvert_exporter": "python",
   "pygments_lexer": "ipython2",
   "version": "2.7.15"
  }
 },
 "nbformat": 4,
 "nbformat_minor": 2
}
