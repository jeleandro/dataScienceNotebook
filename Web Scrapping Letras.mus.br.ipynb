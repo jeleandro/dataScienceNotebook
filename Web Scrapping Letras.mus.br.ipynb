{
 "cells": [
  {
   "cell_type": "code",
   "execution_count": 1,
   "metadata": {
    "collapsed": true
   },
   "outputs": [],
   "source": [
    "from __future__ import print_function\n",
    "\n",
    "import os;\n",
    "import shutil;\n",
    "import codecs;\n",
    "import zipfile;\n",
    "import json;\n",
    "\n",
    "import re;\n",
    "import requests\n",
    "from lxml import html\n",
    "from string import ascii_uppercase;\n",
    "import chardet;\n",
    "\n",
    "import random;"
   ]
  },
  {
   "cell_type": "code",
   "execution_count": 3,
   "metadata": {
    "collapsed": true
   },
   "outputs": [],
   "source": [
    "from os.path import expanduser\n",
    "home = expanduser(\"~\")"
   ]
  },
  {
   "cell_type": "code",
   "execution_count": 3,
   "metadata": {
    "collapsed": true
   },
   "outputs": [],
   "source": [
    "baseAddress = 'https://www.letras.mus.br';"
   ]
  },
  {
   "cell_type": "markdown",
   "metadata": {},
   "source": [
    "# Utility Functions"
   ]
  },
  {
   "cell_type": "code",
   "execution_count": 4,
   "metadata": {
    "collapsed": true
   },
   "outputs": [],
   "source": [
    "def slugify(value):\n",
    "    \"\"\"\n",
    "    Normalizes string, converts to lowercase, removes non-alpha characters,\n",
    "    and converts spaces to hyphens.\n",
    "    \"\"\"\n",
    "    import unicodedata\n",
    "    value = unicodedata.normalize('NFKD', value).encode('ascii', 'ignore')\n",
    "    value = unicode(re.sub('[^\\w\\s-]', '', value).strip().lower())\n",
    "    value = unicode(re.sub('[-\\s]+', '-', value))\n",
    "    return value;"
   ]
  },
  {
   "cell_type": "code",
   "execution_count": 5,
   "metadata": {
    "collapsed": true
   },
   "outputs": [],
   "source": [
    "#use chardet to detect the actual encoding of the content and than encode it.\n",
    "def decode(content):\n",
    "    enconding = chardet.detect(content)['encoding']; #converting to the right encoding\n",
    "    content = content.decode(enconding, errors='ignore');\n",
    "    return content;"
   ]
  },
  {
   "cell_type": "markdown",
   "metadata": {},
   "source": [
    "# Web Scrapping Related Functions"
   ]
  },
  {
   "cell_type": "code",
   "execution_count": 6,
   "metadata": {
    "collapsed": true
   },
   "outputs": [],
   "source": [
    "def listArtistByLetter(letter):\n",
    "    page = requests.get(baseAddress+'/letra/'+letter+'/artistas.html')\n",
    "    tree = html.fromstring(page.content);\n",
    "    return [\n",
    "        a.attrib['href'] for a in tree.xpath('//div[@class=\"artistas-a js-alphabet-cnt\"]/ul/li//a')\n",
    "    ];"
   ]
  },
  {
   "cell_type": "code",
   "execution_count": 7,
   "metadata": {
    "collapsed": true
   },
   "outputs": [],
   "source": [
    "def listSongsFromArtist(artist):\n",
    "    page = requests.get(baseAddress+artist)\n",
    "    tree = html.fromstring(page.content);\n",
    "    r = [a.attrib['href']+\"|\"+a.text_content() for a in tree.xpath('//div[@class=\"cnt-list--alp\"]/li//a')];\n",
    "    r +=[a.attrib['href']+\"|\"+a.text_content() for a in tree.xpath('//*[@id=\"cnt_top\"]//li//a')];\n",
    "    \n",
    "    r = list(set(r)); #removing duplicates\n",
    "    return r;  "
   ]
  },
  {
   "cell_type": "code",
   "execution_count": 8,
   "metadata": {
    "collapsed": true
   },
   "outputs": [],
   "source": [
    "# retrive only one song lyrics\n",
    "def getLyrics(id):\n",
    "    return requests.get(baseAddress+id).content;"
   ]
  },
  {
   "cell_type": "code",
   "execution_count": 117,
   "metadata": {
    "collapsed": true
   },
   "outputs": [],
   "source": [
    "def htmlRemoveNotContentTags(htmlString):\n",
    "    tree = html.fromstring(htmlString);\n",
    "    for t in [\"//script\",\n",
    "              \"//style\",\n",
    "              '//noscript',\n",
    "              \"//footer\",\n",
    "              \"//*[@rel='dns-prefetch']\",\n",
    "              \"//*[@rel='alternate']\",\n",
    "              \"//div[not(text()) and not(node())]\",\n",
    "              \"//span[not(text()) and not(node())]\",\n",
    "              \"//hr[not(text()) and not(node())]\",\n",
    "              \"//i[not(text()) and not(node())]\"]:\n",
    "        for  bad in tree.xpath(\"//\"+t):\n",
    "            #bad.clear();\n",
    "            bad.getparent().remove(bad);\n",
    "\n",
    "    return html.tostring(tree, pretty_print=False);"
   ]
  },
  {
   "cell_type": "markdown",
   "metadata": {},
   "source": [
    "# Reading all artists into array to futher processing"
   ]
  },
  {
   "cell_type": "markdown",
   "metadata": {},
   "source": [
    "## Reading the whole artist list and saving it into a file"
   ]
  },
  {
   "cell_type": "code",
   "execution_count": 4,
   "metadata": {
    "collapsed": true
   },
   "outputs": [],
   "source": [
    "artists = [];\n",
    "\n",
    "for letter in ascii_uppercase:\n",
    "    artists += listArtistByLetter(letter)\n",
    "    \n",
    "with open(home+'/letras/artists.txt','w') as f:\n",
    "    f.writelines(\"%s\\n\" % l for l in artists);"
   ]
  },
  {
   "cell_type": "code",
   "execution_count": 5,
   "metadata": {},
   "outputs": [
    {
     "data": {
      "text/plain": [
       "214346"
      ]
     },
     "execution_count": 5,
     "metadata": {},
     "output_type": "execute_result"
    }
   ],
   "source": [
    "len(artists)"
   ]
  },
  {
   "cell_type": "markdown",
   "metadata": {},
   "source": [
    "## Reading only the most visited artist (probably it contains the weekly report, not the all times report)"
   ]
  },
  {
   "cell_type": "code",
   "execution_count": 9,
   "metadata": {
    "collapsed": true
   },
   "outputs": [],
   "source": [
    "maisAcessados = baseAddress+'/mais-acessadas/';\n",
    "maisAcessados = requests.get(maisAcessados);\n",
    "maisAcessados = html.fromstring(maisAcessados.content);\n",
    "maisAcessados = [a.attrib['href'] for a in maisAcessados.xpath('//*[@class=\"top-list_art\"]/li//a')]"
   ]
  },
  {
   "cell_type": "code",
   "execution_count": 10,
   "metadata": {},
   "outputs": [
    {
     "data": {
      "text/plain": [
       "302"
      ]
     },
     "execution_count": 10,
     "metadata": {},
     "output_type": "execute_result"
    }
   ],
   "source": [
    "len(maisAcessados)"
   ]
  },
  {
   "cell_type": "code",
   "execution_count": 11,
   "metadata": {},
   "outputs": [
    {
     "data": {
      "text/plain": [
       "['/1kilo/',\n",
       " '/matheus-kauan/',\n",
       " '/henrique-e-juliano/',\n",
       " '/jojo-maronttinni/',\n",
       " '/harpa-crista/',\n",
       " '/jorge-mateus/',\n",
       " '/ed-sheeran/',\n",
       " '/gabriela-rocha/',\n",
       " '/pineapple/',\n",
       " '/marchinhas-de-carnaval/']"
      ]
     },
     "execution_count": 11,
     "metadata": {},
     "output_type": "execute_result"
    }
   ],
   "source": [
    "maisAcessados[0:10]"
   ]
  },
  {
   "cell_type": "markdown",
   "metadata": {},
   "source": [
    "## reading the previously saved artists list  from file"
   ]
  },
  {
   "cell_type": "code",
   "execution_count": 12,
   "metadata": {
    "collapsed": true
   },
   "outputs": [],
   "source": [
    "artists = []\n",
    "with open(home+'/letras/artists.txt','r') as f:\n",
    "    artists = f.readlines();"
   ]
  },
  {
   "cell_type": "code",
   "execution_count": 13,
   "metadata": {},
   "outputs": [
    {
     "data": {
      "text/plain": [
       "'/anavitoria/'"
      ]
     },
     "execution_count": 13,
     "metadata": {},
     "output_type": "execute_result"
    }
   ],
   "source": [
    "artists[0].strip()"
   ]
  },
  {
   "cell_type": "code",
   "execution_count": 14,
   "metadata": {},
   "outputs": [
    {
     "data": {
      "text/plain": [
       "'/timbre-original/'"
      ]
     },
     "execution_count": 14,
     "metadata": {},
     "output_type": "execute_result"
    }
   ],
   "source": [
    "random.shuffle(artists);\n",
    "artists[0].strip()"
   ]
  },
  {
   "cell_type": "code",
   "execution_count": 15,
   "metadata": {
    "collapsed": true
   },
   "outputs": [],
   "source": [
    "def downloadArtist(currentArtist):\n",
    "        \n",
    "    songList = listSongsFromArtist(currentArtist[0:-1]);\n",
    "    \n",
    "    if len(songList) <3:\n",
    "        return;\n",
    "\n",
    "    artistDir= home + \"/letras\"+currentArtist[0:-1]+\".zip\";\n",
    "    \n",
    "    if os.path.exists(artistDir):\n",
    "        return;\n",
    "    \n",
    "    thezip = zipfile.ZipFile(artistDir,\"w\")\n",
    "    \n",
    "    savedLyrics = 0;\n",
    "    inZip = []; #adicional check for duplicated files.\n",
    "    for s in songList:\n",
    "        s = s.strip().split(\"|\");\n",
    "        \n",
    "        fileName = slugify(unicode(s[1])) + \".html\";\n",
    "        #print (fileName);\n",
    "        if fileName in inZip:\n",
    "            continue;\n",
    "        \n",
    "        content = decode(getLyrics(s[0]));\n",
    "        content = htmlRemoveNotContentTags(content);\n",
    "\n",
    "        thezip.writestr(fileName, content.encode(\"UTF-8\"));\n",
    "        inZip.append(fileName);\n",
    "    \n",
    "    thezip.close();"
   ]
  },
  {
   "cell_type": "markdown",
   "metadata": {},
   "source": [
    "### maisAcessadas"
   ]
  },
  {
   "cell_type": "code",
   "execution_count": null,
   "metadata": {
    "collapsed": true,
    "scrolled": true
   },
   "outputs": [],
   "source": [
    "print (\"Faltando %d artistas para ler \" % len(maisAcessados))\n",
    "\n",
    "while len(maisAcessados) >0:\n",
    "    currentArtist = maisAcessados[0].strip();\n",
    "    print (currentArtist); \n",
    "         \n",
    "    downloadArtist(currentArtist);\n",
    "    \n",
    "    maisAcessados.remove(maisAcessados[0]);\n",
    "    if maisAcessados[0] in  artists:\n",
    "        artists.remove(maisAcessados[0]);"
   ]
  },
  {
   "cell_type": "code",
   "execution_count": null,
   "metadata": {
    "collapsed": true
   },
   "outputs": [],
   "source": [
    "updateSongs = False;\n",
    "count = 30\n",
    "\n",
    "print (\"Faltando %d artistas para ler \" % len(artists))\n",
    "\n",
    "while len(artists) >0 and count > 0:\n",
    "    #avoiding being blocked\n",
    "    count -= 1;\n",
    "    \n",
    "    #picking and removing 1 artist at time\n",
    "    currentArtist = artists[0].strip();\n",
    "    artists.remove(artists[0]);\n",
    "    downloadArtist(artists);"
   ]
  },
  {
   "cell_type": "code",
   "execution_count": 28,
   "metadata": {},
   "outputs": [
    {
     "name": "stdout",
     "output_type": "stream",
     "text": [
      "/belo/\n",
      "/heloisa-rosa/\n",
      "/delacruz/\n",
      "/soraya-moraes/\n",
      "/sandy-e-junior-musicas/\n",
      "/clarice-falcao/\n",
      "/john-legend/\n",
      "/amy-winehouse/\n",
      "/lea-mendonca/\n",
      "/fifth-harmony/\n",
      "/tiao-carreiro-e-pardinho/\n",
      "/little-mix/\n",
      "/one-ministry/\n",
      "/miley-cyrus/\n",
      "/kendrick-lamar/\n",
      "/iron-maiden/\n",
      "/falamansa/\n",
      "/lorde/\n",
      "/cancao-nova/\n",
      "/junior-angelim/\n",
      "/priscilla-alcantara/\n",
      "/avril-lavigne/\n",
      "/amado-batista/\n",
      "/led-zeppelin/\n",
      "/onze20/\n",
      "/charlie-puth/\n",
      "/nani-azevedo/\n",
      "/gilberto-gil/\n",
      "/eliane-fernandes/\n",
      "/ludmilla/\n",
      "/gabriel-pensador/\n",
      "/vanessa-da-mata/\n",
      "/ministerio-sarando-terra-ferida/\n"
     ]
    }
   ],
   "source": [
    "for f in maisAcessados:\n",
    "    print(f);"
   ]
  },
  {
   "cell_type": "markdown",
   "metadata": {
    "collapsed": true
   },
   "source": [
    "# Limpeza do HTML"
   ]
  },
  {
   "cell_type": "code",
   "execution_count": 197,
   "metadata": {
    "collapsed": true
   },
   "outputs": [],
   "source": [
    "from lxml import etree\n",
    "import glob, shutil;\n",
    "import json;"
   ]
  },
  {
   "cell_type": "code",
   "execution_count": 123,
   "metadata": {
    "collapsed": true
   },
   "outputs": [],
   "source": [
    "def cleanZip(zippath):\n",
    "    with zipfile.ZipFile(zippath,\"r\") as thezip:\n",
    "        with zipfile.ZipFile(zippath+\".clean.zip\",\"w\") as zipclean:\n",
    "            for fname in thezip.namelist():\n",
    "                content = thezip.read(fname);\n",
    "                content = htmlRemoveNotContentTags(content.decode(\"UTF-8\"));\n",
    "                zipclean.writestr(fname,content);"
   ]
  },
  {
   "cell_type": "code",
   "execution_count": null,
   "metadata": {
    "collapsed": true
   },
   "outputs": [],
   "source": [
    "for g in glob.glob(r\"/Users/joseeleandrocustodio/letras/*.zip\"):\n",
    "    cleanZip(g);\n"
   ]
  },
  {
   "cell_type": "code",
   "execution_count": 126,
   "metadata": {
    "collapsed": true
   },
   "outputs": [],
   "source": [
    "for g in glob.glob(r\"/Users/joseeleandrocustodio/letras/*.clean.zip\"):\n",
    "    shutil.move(g,r\"/Users/joseeleandrocustodio/letrasClean\")\n",
    "    \n",
    "for g in glob.glob(r\"/Users/joseeleandrocustodio/letras/*.clean.zip\"):\n",
    "    shutil.move(g,g.replace(\".clean.zip\",\"\"))    "
   ]
  },
  {
   "cell_type": "code",
   "execution_count": 224,
   "metadata": {
    "collapsed": true
   },
   "outputs": [],
   "source": [
    "def parseSong(songFile):\n",
    "    tree = html.fromstring(songFile);\n",
    "    \n",
    "    songText = tree.xpath(\"//*[contains(@class,'cnt-letra')]/article\");\n",
    "    if len(songText) == 0:\n",
    "        return None;\n",
    "    songText = html.tostring(songText[0],pretty_print=True);\n",
    "    songText = songText.replace(\"<br>\",\"\\n\");\n",
    "    \n",
    "    breadCrumb = tree.xpath(\"//*[@id='breadcrumb']//*[@itemprop='name']//text()\");\n",
    "    songTile = tree.xpath(\"//*[@id='js-lyric-cnt']//h1/text()\")[0].strip();\n",
    "    exbibitions = tree.xpath(\"//*[@class='cnt-info_exib']/b/text()\");\n",
    "    \n",
    "    contributor = tree.xpath(\"//*[@class='letra-info_user']/a/@href\");\n",
    "    if len(contributor)>0:\n",
    "        contributor = contributor[0].strip();\n",
    "    \n",
    "    song ={\n",
    "        \"genre\":breadCrumb[1].strip(),\n",
    "        \"artist\":breadCrumb[2].strip(),\n",
    "        'title':songTile,\n",
    "        'songHtml':songText,\n",
    "        'exbibitions':exbibitions,\n",
    "        'contributor':contributor,\n",
    "        'compositor':tree.xpath(\"//*[@class='letra-info_comp']/text()\")[0].replace(u\"Composi\\xe7\\xe3o:\",\"\").strip(),        \n",
    "    }\n",
    "    return song;  "
   ]
  },
  {
   "cell_type": "code",
   "execution_count": 225,
   "metadata": {
    "scrolled": false
   },
   "outputs": [
    {
     "name": "stdout",
     "output_type": "stream",
     "text": [
      "/Users/joseeleandrocustodio/letras/1kilo.zip\n",
      "/Users/joseeleandrocustodio/letras/3030.zip\n",
      "/Users/joseeleandrocustodio/letras/adele.zip\n",
      "/Users/joseeleandrocustodio/letras/alceu-valenca.zip\n",
      "/Users/joseeleandrocustodio/letras/aline-barros.zip\n",
      "/Users/joseeleandrocustodio/letras/alisson-e-neide.zip\n",
      "/Users/joseeleandrocustodio/letras/almir-sater.zip\n",
      "/Users/joseeleandrocustodio/letras/alok.zip\n",
      "/Users/joseeleandrocustodio/letras/amado-batista.zip\n",
      "/Users/joseeleandrocustodio/letras/amanda-wanessa.zip\n",
      "/Users/joseeleandrocustodio/letras/amy-winehouse.zip\n",
      "/Users/joseeleandrocustodio/letras/ana-nobrega.zip\n",
      "/Users/joseeleandrocustodio/letras/ana-vilela.zip\n",
      "/Users/joseeleandrocustodio/letras/anavitoria.zip\n",
      "/Users/joseeleandrocustodio/letras/anderson-freire.zip\n",
      "/Users/joseeleandrocustodio/letras/anitta.zip\n",
      "/Users/joseeleandrocustodio/letras/anjos-de-resgate-musicas.zip\n",
      "/Users/joseeleandrocustodio/letras/antonia-gomes.zip\n",
      "/Users/joseeleandrocustodio/letras/arctic-monkeys.zip\n",
      "/Users/joseeleandrocustodio/letras/ariana-grande.zip\n",
      "/Users/joseeleandrocustodio/letras/armandinho.zip\n",
      "/Users/joseeleandrocustodio/letras/atitude-67.zip\n",
      "/Users/joseeleandrocustodio/letras/aurelina-dourado.zip\n",
      "/Users/joseeleandrocustodio/letras/aurora.zip\n",
      "/Users/joseeleandrocustodio/letras/avioes-do-forro.zip\n",
      "/Users/joseeleandrocustodio/letras/avril-lavigne.zip\n",
      "/Users/joseeleandrocustodio/letras/baco-exu-do-blues.zip\n",
      "/Users/joseeleandrocustodio/letras/banda-bassotti.zip\n",
      "/Users/joseeleandrocustodio/letras/bangtan-boys.zip\n",
      "/Users/joseeleandrocustodio/letras/barbara-dias.zip\n",
      "/Users/joseeleandrocustodio/letras/bazzi.zip\n",
      "/Users/joseeleandrocustodio/letras/belchior.zip\n",
      "/Users/joseeleandrocustodio/letras/belo.zip\n",
      "/Users/joseeleandrocustodio/letras/beyonce.zip\n",
      "/Users/joseeleandrocustodio/letras/blackbear.zip\n",
      "/Users/joseeleandrocustodio/letras/bob-marley.zip\n",
      "/Users/joseeleandrocustodio/letras/bon-jovi.zip\n",
      "/Users/joseeleandrocustodio/letras/bruna-karla.zip\n",
      "/Users/joseeleandrocustodio/letras/bruno-e-marrone.zip\n",
      "/Users/joseeleandrocustodio/letras/bruno-mars.zip\n",
      "/Users/joseeleandrocustodio/letras/caetano-veloso.zip\n",
      "/Users/joseeleandrocustodio/letras/camila-cabello.zip\n",
      "/Users/joseeleandrocustodio/letras/cancao-louvor.zip\n",
      "/Users/joseeleandrocustodio/letras/cancao-nova.zip\n",
      "/Users/joseeleandrocustodio/letras/cantigas-populares.zip\n",
      "/Users/joseeleandrocustodio/letras/capital-inicial.zip\n",
      "/Users/joseeleandrocustodio/letras/cassia-eller.zip\n",
      "/Users/joseeleandrocustodio/letras/cassiane.zip\n",
      "/Users/joseeleandrocustodio/letras/catolicas.zip\n",
      "/Users/joseeleandrocustodio/letras/cazuza.zip\n",
      "/Users/joseeleandrocustodio/letras/charlie-brown-jr.zip\n",
      "/Users/joseeleandrocustodio/letras/charlie-puth.zip\n",
      "/Users/joseeleandrocustodio/letras/chico-buarque.zip\n",
      "/Users/joseeleandrocustodio/letras/chitaozinho-e-xororo.zip\n",
      "/Users/joseeleandrocustodio/letras/choice.zip\n",
      "/Users/joseeleandrocustodio/letras/chris-brown.zip\n",
      "/Users/joseeleandrocustodio/letras/clarice-falcao.zip\n",
      "/Users/joseeleandrocustodio/letras/class-a.zip\n",
      "/Users/joseeleandrocustodio/letras/cleber-cauan.zip\n",
      "/Users/joseeleandrocustodio/letras/coldplay.zip\n",
      "/Users/joseeleandrocustodio/letras/comunidade-catolica-colo-de-deus.zip\n",
      "/Users/joseeleandrocustodio/letras/comunidade-catolica-shalom.zip\n",
      "/Users/joseeleandrocustodio/letras/coral-kemuel.zip\n",
      "/Users/joseeleandrocustodio/letras/corinhos-evangelicos.zip\n",
      "/Users/joseeleandrocustodio/letras/costa-gold.zip\n",
      "/Users/joseeleandrocustodio/letras/cristiano-araujo.zip\n",
      "/Users/joseeleandrocustodio/letras/cristina-mel.zip\n",
      "/Users/joseeleandrocustodio/letras/damares.zip\n",
      "/Users/joseeleandrocustodio/letras/daniel-samuel.zip\n",
      "/Users/joseeleandrocustodio/letras/david-quinlan.zip\n",
      "/Users/joseeleandrocustodio/letras/delacruz.zip\n",
      "/Users/joseeleandrocustodio/letras/delino-marcal.zip\n",
      "/Users/joseeleandrocustodio/letras/demi-lovato.zip\n",
      "/Users/joseeleandrocustodio/letras/diante-do-trono.zip\n",
      "/Users/joseeleandrocustodio/letras/dilsinho.zip\n",
      "/Users/joseeleandrocustodio/letras/disney.zip\n",
      "/Users/joseeleandrocustodio/letras/djavan.zip\n",
      "/Users/joseeleandrocustodio/letras/drake.zip\n",
      "/Users/joseeleandrocustodio/letras/dua-lipa.zip\n",
      "/Users/joseeleandrocustodio/letras/ed-sheeran.zip\n",
      "/Users/joseeleandrocustodio/letras/eduardo-costa.zip\n",
      "/Users/joseeleandrocustodio/letras/elaine-de-jesus.zip\n",
      "/Users/joseeleandrocustodio/letras/elaine-martins.zip\n",
      "/Users/joseeleandrocustodio/letras/elia-oliveira.zip\n",
      "/Users/joseeleandrocustodio/letras/eliana-ribeiro.zip\n",
      "/Users/joseeleandrocustodio/letras/eliane-fernandes.zip\n",
      "/Users/joseeleandrocustodio/letras/elis-regina.zip\n",
      "/Users/joseeleandrocustodio/letras/elvis-presley.zip\n",
      "/Users/joseeleandrocustodio/letras/engenheiros-do-hawaii.zip\n",
      "/Users/joseeleandrocustodio/letras/exaltasamba-musicas.zip\n",
      "/Users/joseeleandrocustodio/letras/eyshila.zip\n",
      "/Users/joseeleandrocustodio/letras/fabiana-anastacio.zip\n",
      "/Users/joseeleandrocustodio/letras/fagner.zip\n",
      "/Users/joseeleandrocustodio/letras/falamansa.zip\n",
      "/Users/joseeleandrocustodio/letras/felipe-araujo.zip\n",
      "/Users/joseeleandrocustodio/letras/fernanda-brum.zip\n",
      "/Users/joseeleandrocustodio/letras/fernandinho.zip\n",
      "/Users/joseeleandrocustodio/letras/fernando-sorocaba.zip\n",
      "/Users/joseeleandrocustodio/letras/ferrugem.zip\n",
      "/Users/joseeleandrocustodio/letras/fifth-harmony.zip\n",
      "/Users/joseeleandrocustodio/letras/filipe-ret.zip\n",
      "/Users/joseeleandrocustodio/letras/foo-fighters.zip\n",
      "/Users/joseeleandrocustodio/letras/froid.zip\n",
      "/Users/joseeleandrocustodio/letras/gaab.zip\n",
      "/Users/joseeleandrocustodio/letras/gabriel-pensador.zip\n",
      "/Users/joseeleandrocustodio/letras/gabriela-rocha.zip\n",
      "/Users/joseeleandrocustodio/letras/gerson-rufino.zip\n",
      "/Users/joseeleandrocustodio/letras/gilberto-gil.zip\n",
      "/Users/joseeleandrocustodio/letras/gisele-nascimento.zip\n",
      "/Users/joseeleandrocustodio/letras/guns-n-roses.zip\n",
      "/Users/joseeleandrocustodio/letras/gustavo-mioto.zip\n",
      "/Users/joseeleandrocustodio/letras/gusttavo-lima.zip\n",
      "/Users/joseeleandrocustodio/letras/haikaiss.zip\n",
      "/Users/joseeleandrocustodio/letras/halsey.zip\n",
      "/Users/joseeleandrocustodio/letras/harpa-crista.zip\n",
      "/Users/joseeleandrocustodio/letras/heloisa-rosa.zip\n",
      "/Users/joseeleandrocustodio/letras/henrique-e-juliano.zip\n",
      "/Users/joseeleandrocustodio/letras/hillsong-united.zip\n",
      "/Users/joseeleandrocustodio/letras/hungria-hip-hop.zip\n",
      "/Users/joseeleandrocustodio/letras/imaginasamba.zip\n",
      "/Users/joseeleandrocustodio/letras/imagine-dragons.zip\n",
      "/Users/joseeleandrocustodio/letras/iron-maiden.zip\n",
      "/Users/joseeleandrocustodio/letras/isadora-pompeo.zip\n",
      "/Users/joseeleandrocustodio/letras/ivete-sangalo.zip\n",
      "/Users/joseeleandrocustodio/letras/iza.zip\n",
      "/Users/joseeleandrocustodio/letras/j-balvin.zip\n",
      "/Users/joseeleandrocustodio/letras/james-arthur.zip\n",
      "/Users/joseeleandrocustodio/letras/jason-mraz.zip\n",
      "/Users/joseeleandrocustodio/letras/joao-bosco-viniciusacustico.zip\n",
      "/Users/joseeleandrocustodio/letras/john-legend.zip\n",
      "/Users/joseeleandrocustodio/letras/jojo-maronttinni.zip\n",
      "/Users/joseeleandrocustodio/letras/jorge-mateus.zip\n",
      "/Users/joseeleandrocustodio/letras/jota-quest.zip\n",
      "/Users/joseeleandrocustodio/letras/jotta-a.zip\n",
      "/Users/joseeleandrocustodio/letras/junior-angelim.zip\n",
      "/Users/joseeleandrocustodio/letras/justin-bieber.zip\n",
      "/Users/joseeleandrocustodio/letras/justin-timberlake.zip\n",
      "/Users/joseeleandrocustodio/letras/katy-perry.zip\n",
      "/Users/joseeleandrocustodio/letras/kemilly-santos.zip\n",
      "/Users/joseeleandrocustodio/letras/kendrick-lamar.zip\n",
      "/Users/joseeleandrocustodio/letras/kleber-lucas.zip\n",
      "/Users/joseeleandrocustodio/letras/konai.zip\n",
      "/Users/joseeleandrocustodio/letras/lady-gaga.zip\n",
      "/Users/joseeleandrocustodio/letras/lana-del-rey.zip\n",
      "/Users/joseeleandrocustodio/letras/laura-souguellis.zip\n",
      "/Users/joseeleandrocustodio/letras/lauriete.zip\n",
      "/Users/joseeleandrocustodio/letras/lea-mendonca.zip\n",
      "/Users/joseeleandrocustodio/letras/led-zeppelin.zip\n",
      "/Users/joseeleandrocustodio/letras/legiao-urbana.zip\n",
      "/Users/joseeleandrocustodio/letras/leo-magalhaes.zip\n",
      "/Users/joseeleandrocustodio/letras/leonardo-goncalves.zip\n",
      "/Users/joseeleandrocustodio/letras/lil-peep.zip\n",
      "/Users/joseeleandrocustodio/letras/lil-pump.zip\n",
      "/Users/joseeleandrocustodio/letras/linkin-park.zip\n",
      "/Users/joseeleandrocustodio/letras/little-mix.zip\n",
      "/Users/joseeleandrocustodio/letras/livres-para-adorar.zip\n",
      "/Users/joseeleandrocustodio/letras/lorde.zip\n",
      "/Users/joseeleandrocustodio/letras/los-hermanos.zip\n"
     ]
    },
    {
     "name": "stdout",
     "output_type": "stream",
     "text": [
      "/Users/joseeleandrocustodio/letras/luan-santana.zip\n",
      "/Users/joseeleandrocustodio/letras/lucas-lucco.zip\n",
      "/Users/joseeleandrocustodio/letras/ludmila-ferber.zip\n",
      "/Users/joseeleandrocustodio/letras/ludmilla.zip\n",
      "/Users/joseeleandrocustodio/letras/luiz-gonzaga.zip\n",
      "/Users/joseeleandrocustodio/letras/luiz-lins.zip\n",
      "/Users/joseeleandrocustodio/letras/lulu-santos.zip\n",
      "/Users/joseeleandrocustodio/letras/luma-elpidio.zip\n",
      "/Users/joseeleandrocustodio/letras/maiara-maraisa.zip\n",
      "/Users/joseeleandrocustodio/letras/maluma.zip\n",
      "/Users/joseeleandrocustodio/letras/maneva.zip\n",
      "/Users/joseeleandrocustodio/letras/mano-walter.zip\n",
      "/Users/joseeleandrocustodio/letras/mara-lima.zip\n",
      "/Users/joseeleandrocustodio/letras/marcela-tais.zip\n",
      "/Users/joseeleandrocustodio/letras/marchinhas-de-carnaval.zip\n",
      "/Users/joseeleandrocustodio/letras/marcos-belutti.zip\n",
      "/Users/joseeleandrocustodio/letras/maria-bethania.zip\n",
      "/Users/joseeleandrocustodio/letras/maria-gadu.zip\n",
      "/Users/joseeleandrocustodio/letras/marilia-mendonca.zip\n",
      "/Users/joseeleandrocustodio/letras/marisa-monte.zip\n",
      "/Users/joseeleandrocustodio/letras/maroon-5.zip\n",
      "/Users/joseeleandrocustodio/letras/matheus-kauan.zip\n",
      "/Users/joseeleandrocustodio/letras/maycon-vinicius.zip\n",
      "/Users/joseeleandrocustodio/letras/mc-davi.zip\n",
      "/Users/joseeleandrocustodio/letras/mc-don-juan.zip\n",
      "/Users/joseeleandrocustodio/letras/mc-hariel-sp.zip\n",
      "/Users/joseeleandrocustodio/letras/mc-kevinho.zip\n",
      "/Users/joseeleandrocustodio/letras/mc-loma.zip\n",
      "/Users/joseeleandrocustodio/letras/mc-menor-mr.zip\n",
      "/Users/joseeleandrocustodio/letras/mc-neguinho-do-kaxeta.zip\n",
      "/Users/joseeleandrocustodio/letras/mc-pedrinho.zip\n",
      "/Users/joseeleandrocustodio/letras/mc-pp-da-vs.zip\n",
      "/Users/joseeleandrocustodio/letras/melanie-martinez.zip\n",
      "/Users/joseeleandrocustodio/letras/metallica.zip\n",
      "/Users/joseeleandrocustodio/letras/michael-jackson.zip\n",
      "/Users/joseeleandrocustodio/letras/midian-lima.zip\n",
      "/Users/joseeleandrocustodio/letras/miley-cyrus.zip\n",
      "/Users/joseeleandrocustodio/letras/milionario-e-jose-rico.zip\n",
      "/Users/joseeleandrocustodio/letras/milton-nascimento.zip\n",
      "/Users/joseeleandrocustodio/letras/ministerio-avivah.zip\n",
      "/Users/joseeleandrocustodio/letras/ministerio-flordelis.zip\n",
      "/Users/joseeleandrocustodio/letras/ministerio-morada.zip\n",
      "/Users/joseeleandrocustodio/letras/ministerio-sarando-terra-ferida.zip\n",
      "/Users/joseeleandrocustodio/letras/ministerio-zoe.zip\n",
      "/Users/joseeleandrocustodio/letras/mirah.zip\n",
      "/Users/joseeleandrocustodio/letras/naiara-azevedo.zip\n",
      "/Users/joseeleandrocustodio/letras/nando-reis.zip\n",
      "/Users/joseeleandrocustodio/letras/nani-azevedo.zip\n",
      "/Users/joseeleandrocustodio/letras/natiruts.zip\n",
      "/Users/joseeleandrocustodio/letras/nirvana.zip\n",
      "/Users/joseeleandrocustodio/letras/nivea-soares.zip\n",
      "/Users/joseeleandrocustodio/letras/o-rappa.zip\n",
      "/Users/joseeleandrocustodio/letras/oasis.zip\n",
      "/Users/joseeleandrocustodio/letras/one-direction.zip\n",
      "/Users/joseeleandrocustodio/letras/one-ministry.zip\n",
      "/Users/joseeleandrocustodio/letras/onze20.zip\n",
      "/Users/joseeleandrocustodio/letras/oriente.zip\n",
      "/Users/joseeleandrocustodio/letras/pabllo-vittar.zip\n",
      "/Users/joseeleandrocustodio/letras/padre-marcelo-rossi.zip\n",
      "/Users/joseeleandrocustodio/letras/padre-zezinho.zip\n",
      "/Users/joseeleandrocustodio/letras/paramore.zip\n",
      "/Users/joseeleandrocustodio/letras/paula-fernandes.zip\n",
      "/Users/joseeleandrocustodio/letras/paulo-cesar-baruk.zip\n",
      "/Users/joseeleandrocustodio/letras/pe-fabio-de-melo.zip\n",
      "/Users/joseeleandrocustodio/letras/pearl-jam.zip\n",
      "/Users/joseeleandrocustodio/letras/pineapple.zip\n",
      "/Users/joseeleandrocustodio/letras/pink-floyd.zip\n",
      "/Users/joseeleandrocustodio/letras/pitty.zip\n",
      "/Users/joseeleandrocustodio/letras/post-malone.zip\n",
      "/Users/joseeleandrocustodio/letras/pr-lucas.zip\n",
      "/Users/joseeleandrocustodio/letras/preto-no-branco.zip\n",
      "/Users/joseeleandrocustodio/letras/priscilla-alcantara.zip\n",
      "/Users/joseeleandrocustodio/letras/projota.zip\n",
      "/Users/joseeleandrocustodio/letras/quatro-por-um.zip\n",
      "/Users/joseeleandrocustodio/letras/queen.zip\n",
      "/Users/joseeleandrocustodio/letras/raca-negra.zip\n",
      "/Users/joseeleandrocustodio/letras/racionais-mcs.zip\n",
      "/Users/joseeleandrocustodio/letras/raul-seixas.zip\n",
      "/Users/joseeleandrocustodio/letras/rbd.zip\n",
      "/Users/joseeleandrocustodio/letras/red-hot-chili-peppers.zip\n",
      "/Users/joseeleandrocustodio/letras/renascer-praise.zip\n",
      "/Users/joseeleandrocustodio/letras/renato-russo.zip\n",
      "/Users/joseeleandrocustodio/letras/revelacao.zip\n",
      "/Users/joseeleandrocustodio/letras/rihanna.zip\n",
      "/Users/joseeleandrocustodio/letras/roberto-carlos.zip\n",
      "/Users/joseeleandrocustodio/letras/robson-biollo.zip\n",
      "/Users/joseeleandrocustodio/letras/rosa-de-saron-musicas.zip\n",
      "/Users/joseeleandrocustodio/letras/rose-nascimento.zip\n",
      "/Users/joseeleandrocustodio/letras/rouge.zip\n",
      "/Users/joseeleandrocustodio/letras/roupa-nova.zip\n",
      "/Users/joseeleandrocustodio/letras/sam-smith.zip\n",
      "/Users/joseeleandrocustodio/letras/samuel-mariano.zip\n",
      "/Users/joseeleandrocustodio/letras/sandy-e-junior-musicas.zip\n",
      "/Users/joseeleandrocustodio/letras/sarah-farias.zip\n",
      "/Users/joseeleandrocustodio/letras/selena-gomez.zip\n",
      "/Users/joseeleandrocustodio/letras/shawn-mendes.zip\n",
      "/Users/joseeleandrocustodio/letras/shirley-carvalhaes.zip\n",
      "/Users/joseeleandrocustodio/letras/sia.zip\n",
      "/Users/joseeleandrocustodio/letras/simone-simaria-as-coleguinhas.zip\n",
      "/Users/joseeleandrocustodio/letras/skank.zip\n",
      "/Users/joseeleandrocustodio/letras/slipknot.zip\n",
      "/Users/joseeleandrocustodio/letras/soraya-moraes.zip\n",
      "/Users/joseeleandrocustodio/letras/sorriso-maroto.zip\n",
      "/Users/joseeleandrocustodio/letras/soy-luna.zip\n",
      "/Users/joseeleandrocustodio/letras/supercombo.zip\n",
      "/Users/joseeleandrocustodio/letras/system-of-a-down.zip\n",
      "/Users/joseeleandrocustodio/letras/taylor-swift.zip\n",
      "/Users/joseeleandrocustodio/letras/temas-infantis.zip\n",
      "/Users/joseeleandrocustodio/letras/tempo-de-semear.zip\n",
      "/Users/joseeleandrocustodio/letras/thalles-roberto.zip\n",
      "/Users/joseeleandrocustodio/letras/the-beatles.zip\n",
      "/Users/joseeleandrocustodio/letras/the-chainsmokers.zip\n",
      "/Users/joseeleandrocustodio/letras/the-cranberries.zip\n",
      "/Users/joseeleandrocustodio/letras/the-neighbourhood.zip\n",
      "/Users/joseeleandrocustodio/letras/the-weeknd.zip\n",
      "/Users/joseeleandrocustodio/letras/thiago-brava.zip\n",
      "/Users/joseeleandrocustodio/letras/thiagomatheus.zip\n",
      "/Users/joseeleandrocustodio/letras/thiaguinho.zip\n",
      "/Users/joseeleandrocustodio/letras/tiago-iorc.zip\n",
      "/Users/joseeleandrocustodio/letras/tiao-carreiro-e-pardinho.zip\n",
      "/Users/joseeleandrocustodio/letras/tim-maia.zip\n",
      "/Users/joseeleandrocustodio/letras/titas.zip\n",
      "/Users/joseeleandrocustodio/letras/tom-jobim.zip\n",
      "/Users/joseeleandrocustodio/letras/toque-no-altar.zip\n",
      "/Users/joseeleandrocustodio/letras/tribo-da-periferia.zip\n",
      "/Users/joseeleandrocustodio/letras/turma-do-pagode.zip\n",
      "/Users/joseeleandrocustodio/letras/twenty-one-pilots.zip\n",
      "/Users/joseeleandrocustodio/letras/u2.zip\n",
      "/Users/joseeleandrocustodio/letras/um44k.zip\n",
      "/Users/joseeleandrocustodio/letras/umbanda.zip\n",
      "/Users/joseeleandrocustodio/letras/vanessa-da-mata.zip\n",
      "/Users/joseeleandrocustodio/letras/vanilda-bordieri.zip\n",
      "/Users/joseeleandrocustodio/letras/victor-leo.zip\n",
      "/Users/joseeleandrocustodio/letras/vinicius-de-moraes.zip\n",
      "/Users/joseeleandrocustodio/letras/voz-da-verdade.zip\n",
      "/Users/joseeleandrocustodio/letras/wesley-safadao.zip\n",
      "/Users/joseeleandrocustodio/letras/whitney-houston.zip\n",
      "/Users/joseeleandrocustodio/letras/xuxa.zip\n",
      "/Users/joseeleandrocustodio/letras/xxxtentacion.zip\n",
      "/Users/joseeleandrocustodio/letras/ze-neto-cristiano.zip\n",
      "/Users/joseeleandrocustodio/letras/ze-ramalho.zip\n",
      "/Users/joseeleandrocustodio/letras/zeca-pagodinho.zip\n"
     ]
    }
   ],
   "source": [
    "songs= [];\n",
    "\n",
    "for zippath in sorted(glob.glob(r\"/Users/joseeleandrocustodio/letras/*.zip\")):\n",
    "    print(zippath);\n",
    "    try:\n",
    "        with zipfile.ZipFile(zippath,\"r\") as thezip:\n",
    "            for fname in thezip.namelist():\n",
    "                content = thezip.read(fname);\n",
    "                s = parseSong(content.decode(\"utf-8\"));\n",
    "                if s:\n",
    "                    songs.append(s);\n",
    "    except IndexError as e:\n",
    "        print (\"Error reading file:\"+zippath +\" song:\"+fname);\n",
    "        print (e)\n",
    "        break;\n",
    "    \n",
    "with codecs.open(r'/Users/joseeleandrocustodio/letras/songs.json', mode='w') as outfile:\n",
    "    json.dump(songs, outfile);"
   ]
  },
  {
   "cell_type": "code",
   "execution_count": null,
   "metadata": {
    "collapsed": true
   },
   "outputs": [],
   "source": []
  },
  {
   "cell_type": "code",
   "execution_count": 7,
   "metadata": {},
   "outputs": [],
   "source": [
    "lyrics = None;\n",
    "\n",
    "with codecs.open(home+r'/letras/songs.json', mode='r') as outfile:\n",
    "    lyrics = json.load(outfile);"
   ]
  },
  {
   "cell_type": "code",
   "execution_count": 16,
   "metadata": {
    "collapsed": true
   },
   "outputs": [],
   "source": [
    "for l in lyrics:\n",
    "    if l['compositor']:\n",
    "        comp = l['compositor'];\n",
    "        comp = comp[0:-2].strip();\n",
    "        comp = re.sub(r'\\s{2,}',' ',comp);\n",
    "        l['compositor'] = comp;\n",
    "    if l['contributor']:\n",
    "        l['contributor'] = re.sub(r'[^\\d]','',l['contributor'])\n",
    "    \n",
    "    l['songHtml'] = re.sub('\\s*\\<(\\/)?article\\>\\s*','',l['songHtml'])\n",
    "\n",
    "    \n",
    "with codecs.open(home + r'/letras/songs2.json', mode='w') as outfile:\n",
    "    json.dump(lyrics, outfile);"
   ]
  },
  {
   "cell_type": "code",
   "execution_count": 15,
   "metadata": {},
   "outputs": [
    {
     "name": "stdout",
     "output_type": "stream",
     "text": [
      "<p>[Pablo]\n",
      "Aten&#231;&#227;o de soldados na guerra\n",
      "Acreditamos na reza sincera\n",
      "As nossas ambi&#231;&#245;es s&#227;o maiores que a terra\n",
      "Voc&#234; vai ver</p>\n",
      "<p>[Knust]\n",
      "Reza Sincera, sobe a vela\n",
      "Prece contra os pela\n",
      "Filho de Atena, na guerra com ambi&#231;&#227;o da terra\n",
      "A prote&#231;&#227;o no gatilho, a bala brilha, apaga o brilho\n",
      "O breu te cega, a praga pega, o padre prega e mata o filho\n",
      "O breu te cega, a praga pega, o padre prega e mata o filho\n",
      "N&#243;s s&#243; usamos o necess&#225;rio pra expandir o saldo banc&#225;rio\n",
      "Uma Ambi&#231;&#227;o suicida, numeros pagam sua vida\n",
      "Amor t&#225; caro, rir t&#225; raro e tu achando que t&#225; bom\n",
      "Onde a rainha do baixinhos n&#227;o &#233; a Xuxa, &#233; o Bolsonaro\n",
      "For&#231;a de Zeus, blinda os meus nessa miss&#227;o, Thor bate o martelo\n",
      "Que falte amor, n&#227;o muni&#231;&#227;o\n",
      "&#201; viver pra ser, meu conselho &#233; n&#227;o seja\n",
      "N&#227;o d&#225; as costas pra rua nem pra tomar uma cerveja\n",
      "Hora pra pular a fogueira n&#227;o para\n",
      "J&#225; sa&#237;mos do po&#231;o, agora &#233; s&#243; assombrar no pique Samara\n",
      "S&#243; tem jogador brabo desse lado\n",
      "J&#225; sa&#237;mos do po&#231;o, agora &#233; s&#243; aguardar o chamado</p>\n",
      "<p>[Pablo]\n",
      "Aten&#231;&#227;o de soldados na guerra\n",
      "Acreditamos na reza sincera\n",
      "As nossas ambi&#231;&#245;es s&#227;o maiores que a terra\n",
      "Voc&#234; vai ver</p>\n",
      "<p>[DoisP]\n",
      "&#201; s&#243; o que c&#234; tem pra vencer irm&#227;o, ambi&#231;&#227;o\n",
      "E o gatilho &#233; o que c&#234; tem pra viver, ent&#227;o\n",
      "Precis&#227;o em cada tiro pra vit&#243;ria\n",
      "Um milh&#227;o de sonhos que ficaram na hist&#243;ria\n",
      "Trincheira entre o c&#233;u e o inferno\n",
      "Maquiavel, arte da guerra\n",
      "Onde Deus &#233; uma nota de papel\n",
      "O pr&#234;mio &#233; a gl&#243;ria, e eu quero a minha antes do fim, chapa\n",
      "Tenho por mim um gatilho, mem&#243;rias de onde vim\n",
      "E o instinto fala &#8220;destrava&#8221;\n",
      "Bala na agulha, cada linha um tiro\n",
      "Muni&#231;&#227;o &#233; muita, somos granadas sem pino\n",
      "A paz n&#227;o vale o destino sem voz\n",
      "Veneno &#233; o pre&#231;o que eu vivo\n",
      "Minha pe&#231;a e a reza &#233; s&#243; o que eu acredito\n",
      "E dessa &#233; pra melhor</p>\n",
      "<p>[Sadan]\n",
      "No seu rosto a express&#227;o que venera a compaix&#227;o\n",
      "Rezadeiras de um arraial, lava toda a solid&#227;o\n",
      "E a maldade no olhar de quem v&#234;\n",
      "Seu jogo sujo eu acabei de perceber\n",
      "Voc&#234;s podem ter mil melodias\n",
      "Eu recordo muito bem daquele dia\n",
      "Voc&#234;s podem ter mil Raps na internet\n",
      "Com apenas um eu acabo com todas suas rimas de farsa e hipocrisia\n",
      "Meu Rap &#233; dinastia, ent&#227;o n&#227;o me copia\n",
      "Porque eu vivo o que eu falo, c&#234;s n&#227;o vive a metade\n",
      "Mesmo se n&#243;s fosse a metade de 1Kilo c&#234;s n&#227;o nos alcan&#231;ariam\n",
      "Reza de periferia</p>\n",
      "<p>[Pablo]\n",
      "Aten&#231;&#227;o de soldados na guerra\n",
      "Acreditamos na reza sincera\n",
      "As nossas ambi&#231;&#245;es s&#227;o maiores que a terra\n",
      "Voc&#234; vai ver</p>\n"
     ]
    }
   ],
   "source": [
    "print(re.sub('\\s*\\<(\\/)?article\\>\\s*','',lyrics[1]['songHtml']))"
   ]
  },
  {
   "cell_type": "code",
   "execution_count": null,
   "metadata": {
    "collapsed": true
   },
   "outputs": [],
   "source": []
  }
 ],
 "metadata": {
  "kernelspec": {
   "display_name": "Python 2",
   "language": "python",
   "name": "python2"
  },
  "language_info": {
   "codemirror_mode": {
    "name": "ipython",
    "version": 2
   },
   "file_extension": ".py",
   "mimetype": "text/x-python",
   "name": "python",
   "nbconvert_exporter": "python",
   "pygments_lexer": "ipython2",
   "version": "2.7.14"
  }
 },
 "nbformat": 4,
 "nbformat_minor": 2
}
