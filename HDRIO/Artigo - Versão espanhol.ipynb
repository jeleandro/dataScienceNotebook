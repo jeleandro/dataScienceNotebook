{
 "cells": [
  {
   "cell_type": "markdown",
   "metadata": {},
   "source": [
    "# Benchmark Pan 2014 para esse problema\n",
    "\n",
    "resultados com micro-avg < 0.30  foram removidos\n",
    "\n",
    "|Team                  |Dutch    |English    |Greek     |Spanish     |Micro-avg|Macro-avg|\n",
    "|----------------------|--------:|----------:|---------:|-----------:|--------:|--------:|\n",
    "|Bagnall               |0.451    |**0.614**  |**0.750** |0.721       |0.608    |0.628    |\n",
    "|Bartoli et al.        |0.518    |0.323      |0.458     |**0.773**   |0.417    |0.506    |\n",
    "|Moreau et al.         |**0.635**|0.453      |**0.693** |0.661       |0.534    |0.606    |\n",
    "|Gutierrez et al.      |0.329    |0.513      |0.581     |0.509       |0.479    |0.478    |\n",
    "|Halvani               |0.455    |0.458      |0.493     |0.441       |0.445    |0.462    |\n",
    "|Hürlimann et al.      |0.616    |0.412      |0.599     |0.539       |0.487    |0.538    |\n",
    "|Pacheco et al.        |0.624    |0.438      |0.517     |0.663       |0.480    |0.558    |\n",
    "|PAN15-ENSEMBLE        |0.426    |0.468      |0.537     |0.715       |0.475    |0.532    |\n",
    "|PAN14-BASELINE-2      |0.191    |0.409      |0.412     |0.683       |0.406    |0.405    |\n",
    "|PAN13-BASELINE        |0.242    |0.404      |0.384     |0.367       |0.358    |0.347    |"
   ]
  },
  {
   "cell_type": "markdown",
   "metadata": {},
   "source": [
    "## Bibliotecas"
   ]
  },
  {
   "cell_type": "code",
   "execution_count": 1,
   "metadata": {
    "collapsed": true
   },
   "outputs": [],
   "source": [
    "%matplotlib inline\n",
    "#bibliotecas padrões do python\n",
    "import os;\n",
    "import codecs;\n",
    "import random;\n",
    "import zipfile;\n",
    "import json;\n",
    "import re;\n",
    "import math;\n",
    "import pickle;\n",
    "from __future__ import print_function;\n",
    "\n",
    "#bibliotecas científicas\n",
    "import matplotlib.pyplot as plt;\n",
    "import numpy as np;\n",
    "import pandas as pd;\n",
    "\n",
    "from scipy.spatial import distance as sdistance \n",
    "#bibliotecas para machine learning\n",
    "from sklearn.pipeline import Pipeline;\n",
    "from sklearn.feature_extraction.text import TfidfVectorizer, CountVectorizer;\n",
    "\n",
    "from sklearn.metrics.pairwise  import cosine_similarity, paired_distances;\n",
    "from sklearn.preprocessing     import RobustScaler, MaxAbsScaler, MinMaxScaler, normalize;\n",
    "from sklearn.decomposition     import PCA;\n",
    "from sklearn.feature_selection import SelectPercentile,SelectFpr, f_classif, chi2;\n",
    "from sklearn.model_selection   import StratifiedKFold,  GridSearchCV;\n",
    "from sklearn.pipeline          import Pipeline;\n",
    "from sklearn.metrics           import f1_score, pairwise_distances, precision_recall_fscore_support, roc_auc_score,accuracy_score;\n",
    "\n",
    "from sklearn.linear_model      import LogisticRegression;\n",
    "from sklearn.metrics           import classification_report, roc_curve;\n",
    "\n",
    "\n",
    "import seaborn as sns;\n",
    "\n",
    "#import statsmodels.discrete.discrete_model as sm;\n",
    "from IPython.core.display import display, HTML, Markdown;\n",
    "\n",
    "np.set_printoptions(precision=3);"
   ]
  },
  {
   "cell_type": "markdown",
   "metadata": {},
   "source": [
    "## Leitura dos datasets por tipo"
   ]
  },
  {
   "cell_type": "code",
   "execution_count": 2,
   "metadata": {
    "collapsed": true
   },
   "outputs": [],
   "source": [
    "def readFilesProfile(task, corpus):\n",
    "            #pan14-author-verification-training-corpus-english-essays-2014-04-22\n",
    "    base = 'pan14-author-verification-'+corpus+'-'+task+'-2014-04-22';\n",
    "    \n",
    "    problems = [];\n",
    "    with zipfile.ZipFile(base+'.zip') as z:\n",
    "        with z.open(base+'/truth.json') as fcontent:\n",
    "            namelist = [name  for name in z.namelist()];\n",
    "            content = json.load(fcontent);\n",
    "            for problem in content['problems']:\n",
    "                problemFolder = base+'/'+problem['name'];\n",
    "                known = '';\n",
    "                unknown = '';\n",
    "                docCount = 0;\n",
    "                for name in namelist:\n",
    "                    if problemFolder+'/known' in name:\n",
    "                        with z.open(name) as f:\n",
    "                            known += f.read();\n",
    "                            docCount +=1;\n",
    "                    elif problemFolder+'/unknown' in name:\n",
    "                        with z.open(name) as f:\n",
    "                            unknown += f.read();\n",
    "                problem['known'] = known;\n",
    "                problem['unknown'] = unknown;\n",
    "                problem['corpus'] = corpus;\n",
    "                problem['docCount'] = docCount;\n",
    "                problem['profileSize'] = len(known);\n",
    "                problem['unknownSize'] = len(unknown);\n",
    "                problems.append(problem);\n",
    "    return problems;"
   ]
  },
  {
   "cell_type": "code",
   "execution_count": 3,
   "metadata": {
    "collapsed": true
   },
   "outputs": [
    {
     "data": {
      "text/html": [
       "<div>\n",
       "<style scoped>\n",
       "    .dataframe tbody tr th:only-of-type {\n",
       "        vertical-align: middle;\n",
       "    }\n",
       "\n",
       "    .dataframe tbody tr th {\n",
       "        vertical-align: top;\n",
       "    }\n",
       "\n",
       "    .dataframe thead th {\n",
       "        text-align: right;\n",
       "    }\n",
       "</style>\n",
       "<table border=\"1\" class=\"dataframe\">\n",
       "  <thead>\n",
       "    <tr style=\"text-align: right;\">\n",
       "      <th></th>\n",
       "      <th>answer</th>\n",
       "      <th>corpus</th>\n",
       "      <th>docCount</th>\n",
       "      <th>genre</th>\n",
       "      <th>known</th>\n",
       "      <th>language</th>\n",
       "      <th>name</th>\n",
       "      <th>profileSize</th>\n",
       "      <th>unknown</th>\n",
       "      <th>unknownSize</th>\n",
       "    </tr>\n",
       "  </thead>\n",
       "  <tbody>\n",
       "    <tr>\n",
       "      <th>0</th>\n",
       "      <td>N</td>\n",
       "      <td>training-corpus</td>\n",
       "      <td>5</td>\n",
       "      <td>articles</td>\n",
       "      <td>﻿¿Qué ocurre en Cataluña?, se pregunta el habi...</td>\n",
       "      <td>spanish</td>\n",
       "      <td>SP001</td>\n",
       "      <td>39163</td>\n",
       "      <td>﻿Todo el mundo se cree en el derecho a critica...</td>\n",
       "      <td>5436</td>\n",
       "    </tr>\n",
       "    <tr>\n",
       "      <th>1</th>\n",
       "      <td>Y</td>\n",
       "      <td>training-corpus</td>\n",
       "      <td>5</td>\n",
       "      <td>articles</td>\n",
       "      <td>﻿Para cualquier conocedor de la política vasca...</td>\n",
       "      <td>spanish</td>\n",
       "      <td>SP002</td>\n",
       "      <td>40078</td>\n",
       "      <td>﻿El autor defiende la necesidad de modificar l...</td>\n",
       "      <td>9528</td>\n",
       "    </tr>\n",
       "    <tr>\n",
       "      <th>2</th>\n",
       "      <td>N</td>\n",
       "      <td>training-corpus</td>\n",
       "      <td>5</td>\n",
       "      <td>articles</td>\n",
       "      <td>﻿Los siete padres de la Constitución configura...</td>\n",
       "      <td>spanish</td>\n",
       "      <td>SP003</td>\n",
       "      <td>30278</td>\n",
       "      <td>﻿El próximo día 6 se cumplirán 35 años del día...</td>\n",
       "      <td>8545</td>\n",
       "    </tr>\n",
       "    <tr>\n",
       "      <th>3</th>\n",
       "      <td>Y</td>\n",
       "      <td>training-corpus</td>\n",
       "      <td>5</td>\n",
       "      <td>articles</td>\n",
       "      <td>﻿El marqués de Beccaria inventó en 1764 el pri...</td>\n",
       "      <td>spanish</td>\n",
       "      <td>SP004</td>\n",
       "      <td>26167</td>\n",
       "      <td>﻿La comparecencia del presidente del Gobierno ...</td>\n",
       "      <td>5583</td>\n",
       "    </tr>\n",
       "    <tr>\n",
       "      <th>4</th>\n",
       "      <td>N</td>\n",
       "      <td>training-corpus</td>\n",
       "      <td>5</td>\n",
       "      <td>articles</td>\n",
       "      <td>﻿Si Can Ricart en el Poblenou se convirtió en ...</td>\n",
       "      <td>spanish</td>\n",
       "      <td>SP005</td>\n",
       "      <td>23608</td>\n",
       "      <td>﻿En la cresta de la ola de popularidad, el arq...</td>\n",
       "      <td>5353</td>\n",
       "    </tr>\n",
       "  </tbody>\n",
       "</table>\n",
       "</div>"
      ],
      "text/plain": [
       "  answer           corpus  docCount     genre  \\\n",
       "0      N  training-corpus         5  articles   \n",
       "1      Y  training-corpus         5  articles   \n",
       "2      N  training-corpus         5  articles   \n",
       "3      Y  training-corpus         5  articles   \n",
       "4      N  training-corpus         5  articles   \n",
       "\n",
       "                                               known language   name  \\\n",
       "0  ﻿¿Qué ocurre en Cataluña?, se pregunta el habi...  spanish  SP001   \n",
       "1  ﻿Para cualquier conocedor de la política vasca...  spanish  SP002   \n",
       "2  ﻿Los siete padres de la Constitución configura...  spanish  SP003   \n",
       "3  ﻿El marqués de Beccaria inventó en 1764 el pri...  spanish  SP004   \n",
       "4  ﻿Si Can Ricart en el Poblenou se convirtió en ...  spanish  SP005   \n",
       "\n",
       "   profileSize                                            unknown  unknownSize  \n",
       "0        39163  ﻿Todo el mundo se cree en el derecho a critica...         5436  \n",
       "1        40078  ﻿El autor defiende la necesidad de modificar l...         9528  \n",
       "2        30278  ﻿El próximo día 6 se cumplirán 35 años del día...         8545  \n",
       "3        26167  ﻿La comparecencia del presidente del Gobierno ...         5583  \n",
       "4        23608  ﻿En la cresta de la ola de popularidad, el arq...         5353  "
      ]
     },
     "execution_count": 3,
     "metadata": {},
     "output_type": "execute_result"
    }
   ],
   "source": [
    "#tasks = ['dutch-essays', 'dutch-reviews','english-essays','english-novels', 'greek-articles', 'spanish-articles'];\n",
    "tasks = ['spanish-articles']\n",
    "corpus = ['training-corpus','test-corpus1','test-corpus2']\n",
    "dataset = [\n",
    "        pd.DataFrame(readFilesProfile(t,c))\n",
    "            for t in tasks\n",
    "                for c in corpus\n",
    "        ]\n",
    "dataset = pd.concat(dataset);\n",
    "\n",
    "dataset.head()"
   ]
  },
  {
   "cell_type": "markdown",
   "metadata": {},
   "source": [
    "# Partindo dos dados consolidados previamente"
   ]
  },
  {
   "cell_type": "code",
   "execution_count": 4,
   "metadata": {},
   "outputs": [
    {
     "data": {
      "image/png": "[encoded data removed]",
      "text/plain": [
       "<Figure size 432x288 with 1 Axes>"
      ]
     },
     "metadata": {},
     "output_type": "display_data"
    }
   ],
   "source": [
    "dataset\\\n",
    ".pivot_table(values='name',index=['corpus','genre','language'],columns='answer',aggfunc='count') \\\n",
    ".plot.barh(stacked=True);"
   ]
  },
  {
   "cell_type": "code",
   "execution_count": 5,
   "metadata": {},
   "outputs": [
    {
     "data": {
      "text/html": [
       "<div>\n",
       "<style scoped>\n",
       "    .dataframe tbody tr th:only-of-type {\n",
       "        vertical-align: middle;\n",
       "    }\n",
       "\n",
       "    .dataframe tbody tr th {\n",
       "        vertical-align: top;\n",
       "    }\n",
       "\n",
       "    .dataframe thead th {\n",
       "        text-align: right;\n",
       "    }\n",
       "</style>\n",
       "<table border=\"1\" class=\"dataframe\">\n",
       "  <thead>\n",
       "    <tr style=\"text-align: right;\">\n",
       "      <th></th>\n",
       "      <th></th>\n",
       "      <th>name</th>\n",
       "      <th>profileSize</th>\n",
       "    </tr>\n",
       "    <tr>\n",
       "      <th>genre</th>\n",
       "      <th>docCount</th>\n",
       "      <th></th>\n",
       "      <th></th>\n",
       "    </tr>\n",
       "  </thead>\n",
       "  <tbody>\n",
       "    <tr>\n",
       "      <th>articles</th>\n",
       "      <th>5</th>\n",
       "      <td>100</td>\n",
       "      <td>35293.67</td>\n",
       "    </tr>\n",
       "  </tbody>\n",
       "</table>\n",
       "</div>"
      ],
      "text/plain": [
       "                   name  profileSize\n",
       "genre    docCount                   \n",
       "articles 5          100     35293.67"
      ]
     },
     "execution_count": 5,
     "metadata": {},
     "output_type": "execute_result"
    }
   ],
   "source": [
    "dataset[dataset.corpus == 'training-corpus'].groupby(['genre','docCount']).agg({'profileSize':np.mean, 'name':np.size})"
   ]
  },
  {
   "cell_type": "markdown",
   "metadata": {},
   "source": [
    "# Funções utilitárias"
   ]
  },
  {
   "cell_type": "code",
   "execution_count": 6,
   "metadata": {
    "collapsed": true
   },
   "outputs": [],
   "source": [
    "def cosine(matrixA, matrixB):\n",
    "    \"\"\"Essa função calcula a similaridade de cossenos entre duas matrizes e retorna um vetor que representa\n",
    "    cosine[i] =  cosine(matrixA[i,:], matrixB[i,:])\n",
    "    como preprocessamento, a matrizes passam por um normalização L2 para evitar que a norma influencie\n",
    "    \"\"\"\n",
    "    return np.array(np.diag(\n",
    "        cosine_similarity(\n",
    "            normalize(matrixA, norm='l2'),\n",
    "            normalize(matrixB, norm='l2')\n",
    "        )\n",
    "    )).flatten();"
   ]
  },
  {
   "cell_type": "code",
   "execution_count": 7,
   "metadata": {
    "collapsed": true
   },
   "outputs": [],
   "source": [
    "def CNG_Keselj(matrixA, matrixB):\n",
    "    \"\"\"\n",
    "    A profile-based method of particular interest, the Common n-Grams (CNG) approach, was described by Keselj, et al. (2003).\n",
    "    -1 vetor A tem valores maiores\n",
    "    0  A e B são iguais\n",
    "    1  vetor B  tem valores maiores\n",
    "    \"\"\"\n",
    "    matrixA = normalize(matrixA, norm='l1')\n",
    "    matrixB = normalize(matrixB, norm='l1')\n",
    "    dif   = (matrixA) - (matrixB);\n",
    "    summ   = (matrixA) + (matrixB);\n",
    "    \n",
    "    s = (2 * dif /summ) **2;\n",
    "    s = np.array(np.nansum(s, axis=1)).flatten();    \n",
    "    return s;"
   ]
  },
  {
   "cell_type": "code",
   "execution_count": 8,
   "metadata": {
    "collapsed": true
   },
   "outputs": [],
   "source": [
    "def CNG_Stamatatos(matrixA, matrixB):\n",
    "    matrixA = normalize(matrixA, norm='l1')\n",
    "    matrixB = normalize(matrixB, norm='l1')\n",
    "    \n",
    "    #difference to local\n",
    "    s1 = (2 * (matrixA - matrixB) /(matrixA + matrixB)) **2;\n",
    "    \n",
    "    \n",
    "    #global difference\n",
    "    matrixCorpus = np.vstack((matrixA,matrixB));\n",
    "    matrixCorpus =  normalize(np.sum(matrixCorpus,axis=0, keepdims=True), norm='l1');   \n",
    "    s2 = (2 * (matrixA - matrixCorpus) /(matrixA + matrixCorpus)) **2;\n",
    "    \n",
    "    s = s1 * s2;    \n",
    "    s = np.array(np.nansum(s, axis=1)).flatten();    \n",
    "    return s;"
   ]
  },
  {
   "cell_type": "code",
   "execution_count": 28,
   "metadata": {
    "collapsed": true
   },
   "outputs": [],
   "source": [
    "def cScore(Y, Ypred):\n",
    "    \"\"\"função definida segundo a competição pan.  A ideia é penalisar o classificador\n",
    "    que retorna probabilidade de 50%, ou seja, não ser melhor que um chute aleatório \"\"\"\n",
    "    Ypred = np.round(Ypred,decimals=3);\n",
    "    n  = len(Y)*1.0;\n",
    "    nunansweard  = np.sum(Ypred == 0.5);\n",
    "    \n",
    "    ncorrect = np.sum( (Ypred>0.5) & (Y == 1) ) + np.sum( (Ypred<0.5) & (Y == 0) )    \n",
    "    #ncorrect = np.sum(((Ypred>0.5) == Y)) - nunansweard;    \n",
    "    return (1.0/n)*(ncorrect+(nunansweard*ncorrect/n));"
   ]
  },
  {
   "cell_type": "code",
   "execution_count": 10,
   "metadata": {
    "collapsed": true
   },
   "outputs": [],
   "source": [
    "def difchi2(ma, mb):\n",
    "    return np.log(1+(np.array(ma) - np.array(mb))**2 /(1+ np.array(ma)));\n",
    "\n",
    "\n",
    "def kpi(pred, y):\n",
    "    ks      = ksCurve(pred,y);\n",
    "    roc     = rocCurve(pred,y);\n",
    "    c_score = cScore  (pred,y);\n",
    "    final   = roc * c_score;\n",
    "    return ks, roc, c_score, final;\n",
    "\n",
    "\n",
    "def kpi2(pred, y):\n",
    "    roc     = rocCurve(pred,y);\n",
    "    c_score = cScore  (pred,y);\n",
    "    metrics =  {\n",
    "        'ks':ksCurve(pred,y),\n",
    "        'auc':roc,\n",
    "        'C_score': c_score,\n",
    "        'f1': f1_score(y, pred),\n",
    "        'PAN' : roc * c_score\n",
    "        \n",
    "    };\n",
    "    return metrics;"
   ]
  },
  {
   "cell_type": "markdown",
   "metadata": {},
   "source": [
    "## Filtrando as instancias de problemas que serão tratadas"
   ]
  },
  {
   "cell_type": "markdown",
   "metadata": {},
   "source": [
    "Foi utilizado apenas o corpus de trainamento porque os corpus de teste estariam disponíveis apenas para o avaliadores."
   ]
  },
  {
   "cell_type": "code",
   "execution_count": 11,
   "metadata": {},
   "outputs": [
    {
     "data": {
      "text/html": [
       "<div>\n",
       "<style scoped>\n",
       "    .dataframe tbody tr th:only-of-type {\n",
       "        vertical-align: middle;\n",
       "    }\n",
       "\n",
       "    .dataframe tbody tr th {\n",
       "        vertical-align: top;\n",
       "    }\n",
       "\n",
       "    .dataframe thead th {\n",
       "        text-align: right;\n",
       "    }\n",
       "</style>\n",
       "<table border=\"1\" class=\"dataframe\">\n",
       "  <thead>\n",
       "    <tr style=\"text-align: right;\">\n",
       "      <th></th>\n",
       "      <th>name</th>\n",
       "      <th>language</th>\n",
       "      <th>genre</th>\n",
       "      <th>known</th>\n",
       "      <th>unknown</th>\n",
       "      <th>answer</th>\n",
       "    </tr>\n",
       "  </thead>\n",
       "  <tbody>\n",
       "    <tr>\n",
       "      <th>0</th>\n",
       "      <td>SP001</td>\n",
       "      <td>spanish</td>\n",
       "      <td>articles</td>\n",
       "      <td>﻿¿Qué ocurre en Cataluña?, se pregunta el habi...</td>\n",
       "      <td>﻿Todo el mundo se cree en el derecho a critica...</td>\n",
       "      <td>N</td>\n",
       "    </tr>\n",
       "    <tr>\n",
       "      <th>1</th>\n",
       "      <td>SP002</td>\n",
       "      <td>spanish</td>\n",
       "      <td>articles</td>\n",
       "      <td>﻿Para cualquier conocedor de la política vasca...</td>\n",
       "      <td>﻿El autor defiende la necesidad de modificar l...</td>\n",
       "      <td>Y</td>\n",
       "    </tr>\n",
       "    <tr>\n",
       "      <th>2</th>\n",
       "      <td>SP003</td>\n",
       "      <td>spanish</td>\n",
       "      <td>articles</td>\n",
       "      <td>﻿Los siete padres de la Constitución configura...</td>\n",
       "      <td>﻿El próximo día 6 se cumplirán 35 años del día...</td>\n",
       "      <td>N</td>\n",
       "    </tr>\n",
       "    <tr>\n",
       "      <th>3</th>\n",
       "      <td>SP004</td>\n",
       "      <td>spanish</td>\n",
       "      <td>articles</td>\n",
       "      <td>﻿El marqués de Beccaria inventó en 1764 el pri...</td>\n",
       "      <td>﻿La comparecencia del presidente del Gobierno ...</td>\n",
       "      <td>Y</td>\n",
       "    </tr>\n",
       "    <tr>\n",
       "      <th>4</th>\n",
       "      <td>SP005</td>\n",
       "      <td>spanish</td>\n",
       "      <td>articles</td>\n",
       "      <td>﻿Si Can Ricart en el Poblenou se convirtió en ...</td>\n",
       "      <td>﻿En la cresta de la ola de popularidad, el arq...</td>\n",
       "      <td>N</td>\n",
       "    </tr>\n",
       "  </tbody>\n",
       "</table>\n",
       "</div>"
      ],
      "text/plain": [
       "    name language     genre  \\\n",
       "0  SP001  spanish  articles   \n",
       "1  SP002  spanish  articles   \n",
       "2  SP003  spanish  articles   \n",
       "3  SP004  spanish  articles   \n",
       "4  SP005  spanish  articles   \n",
       "\n",
       "                                               known  \\\n",
       "0  ﻿¿Qué ocurre en Cataluña?, se pregunta el habi...   \n",
       "1  ﻿Para cualquier conocedor de la política vasca...   \n",
       "2  ﻿Los siete padres de la Constitución configura...   \n",
       "3  ﻿El marqués de Beccaria inventó en 1764 el pri...   \n",
       "4  ﻿Si Can Ricart en el Poblenou se convirtió en ...   \n",
       "\n",
       "                                             unknown answer  \n",
       "0  ﻿Todo el mundo se cree en el derecho a critica...      N  \n",
       "1  ﻿El autor defiende la necesidad de modificar l...      Y  \n",
       "2  ﻿El próximo día 6 se cumplirán 35 años del día...      N  \n",
       "3  ﻿La comparecencia del presidente del Gobierno ...      Y  \n",
       "4  ﻿En la cresta de la ola de popularidad, el arq...      N  "
      ]
     },
     "execution_count": 11,
     "metadata": {},
     "output_type": "execute_result"
    }
   ],
   "source": [
    "datasetEstudo = dataset[ dataset['language'] == 'spanish'  ];\n",
    "datasetEstudo = datasetEstudo[dataset.corpus == 'training-corpus']\n",
    "datasetEstudo = datasetEstudo[['name','language','genre','known','unknown','answer']];\n",
    "datasetEstudo.head()"
   ]
  },
  {
   "cell_type": "markdown",
   "metadata": {},
   "source": [
    "# Análise exploratória da base"
   ]
  },
  {
   "cell_type": "code",
   "execution_count": 12,
   "metadata": {},
   "outputs": [
    {
     "data": {
      "image/png": "[encoded data removed]",
      "text/plain": [
       "<Figure size 432x288 with 1 Axes>"
      ]
     },
     "metadata": {},
     "output_type": "display_data"
    }
   ],
   "source": [
    "datasetEstudo.pivot_table(\n",
    "    values='name',\n",
    "    index=['genre'],\n",
    "    columns='answer',aggfunc='count').plot.bar(stacked=True);"
   ]
  },
  {
   "cell_type": "markdown",
   "metadata": {},
   "source": [
    "# analisando char n-grams  mais frequentes\n",
    "Segundo a literatura (survery do stamatatos) o termos mais frequentes permitem diferenciar o autor sem ser impactados pelo contexto.\n",
    "Estudando apontam também que entre 2 e 5 char n-grams apresentaram os melhores resultados.\n",
    "Utilizando o TfidfVectorizer  sem a componente IDF porque ela faz pouco efeito e para utilizar a versão com 1+log(TF)"
   ]
  },
  {
   "cell_type": "code",
   "execution_count": 13,
   "metadata": {
    "collapsed": true
   },
   "outputs": [],
   "source": [
    "counter = CountVectorizer(\n",
    "        analyzer=\"char\",\n",
    "        min_df=0.90,\n",
    "        max_df=1.0,\n",
    "        ngram_range=(2,5),\n",
    "        lowercase=False,\n",
    "        dtype=np.float32\n",
    "    );"
   ]
  },
  {
   "cell_type": "code",
   "execution_count": 14,
   "metadata": {
    "collapsed": true
   },
   "outputs": [],
   "source": [
    "counter.fit(datasetEstudo.known.values);\n",
    "ma = counter.transform(datasetEstudo.known.values).todense();\n",
    "mb = counter.transform(datasetEstudo.unknown.values).todense();"
   ]
  },
  {
   "cell_type": "code",
   "execution_count": 15,
   "metadata": {
    "collapsed": true
   },
   "outputs": [],
   "source": [
    "def normalizer(m):\n",
    "    #TF\n",
    "    m = normalize(m,norm='l1');\n",
    "    return m;    "
   ]
  },
  {
   "cell_type": "code",
   "execution_count": 16,
   "metadata": {
    "collapsed": true
   },
   "outputs": [],
   "source": [
    "known = normalizer(ma);\n",
    "unknown = normalizer(mb);"
   ]
  },
  {
   "cell_type": "code",
   "execution_count": 17,
   "metadata": {},
   "outputs": [
    {
     "name": "stderr",
     "output_type": "stream",
     "text": [
      "/Users/joseeleandrocustodio/anaconda2/lib/python2.7/site-packages/ipykernel_launcher.py:13: RuntimeWarning: divide by zero encountered in divide\n",
      "  del sys.path[0]\n",
      "/Users/joseeleandrocustodio/anaconda2/lib/python2.7/site-packages/ipykernel_launcher.py:13: RuntimeWarning: invalid value encountered in divide\n",
      "  del sys.path[0]\n",
      "/Users/joseeleandrocustodio/anaconda2/lib/python2.7/site-packages/ipykernel_launcher.py:6: RuntimeWarning: divide by zero encountered in divide\n",
      "  \n",
      "/Users/joseeleandrocustodio/anaconda2/lib/python2.7/site-packages/ipykernel_launcher.py:6: RuntimeWarning: invalid value encountered in divide\n",
      "  \n"
     ]
    }
   ],
   "source": [
    "pca = PCA(0.95).fit(np.vstack((known,unknown)));\n",
    "\n",
    "distances =[\n",
    "    (\"Keselj\",    CNG_Keselj(known,unknown)),\n",
    "    (\"Stamatatos\",CNG_Stamatatos(known,unknown)),\n",
    "    (\"Jaccard\",   paired_distances(known>0, unknown>0, metric=sdistance.jaccard)),\n",
    "    #(\"canberra\",  paired_distances(known, unknown, metric=sdistance.canberra)),\n",
    "    #(\"correlation\", paired_distances(known, unknown, metric=sdistance.correlation)),\n",
    "    (\"Cosseno\",    paired_distances(known, unknown, metric='cosine')),\n",
    "    (\"CossenoPCA\",    paired_distances(pca.transform(known), pca.transform(unknown), metric='cosine')),\n",
    "];"
   ]
  },
  {
   "cell_type": "markdown",
   "metadata": {},
   "source": [
    "# Análise descritiva das variáveis criadas"
   ]
  },
  {
   "cell_type": "code",
   "execution_count": 18,
   "metadata": {},
   "outputs": [],
   "source": [
    "def ks_binary(x,y, dtype=np.float32):\n",
    "    notNAN= np.isnan(x)==False;\n",
    "    y = y[notNAN];\n",
    "    x = x[notNAN]; \n",
    "    \n",
    "    argsorted = x.argsort();\n",
    "    \n",
    "    cdfFalse = (y[argsorted]==False).cumsum(dtype=dtype);\n",
    "    cdfFalse /= cdfFalse[-1];\n",
    "\n",
    "    cdfTrue = (y[argsorted]).cumsum(dtype=dtype);\n",
    "    cdfTrue /= cdfTrue[-1];\n",
    "    \n",
    "    ks = np.abs(cdfFalse - cdfTrue).max();\n",
    "    ks_stab = np.mean((cdfFalse - cdfTrue) >0);\n",
    "    if ks_stab != 1 and ks_stab != 0:\n",
    "        ks_entropy = - (ks_stab*np.log(ks_stab) + (1-ks_stab)*np.log(1-ks_stab));\n",
    "    else:\n",
    "        ks_entropy = 0;\n",
    "    return ks, ks_entropy, argsorted, cdfFalse, cdfTrue;\n",
    "    "
   ]
  },
  {
   "cell_type": "code",
   "execution_count": 19,
   "metadata": {},
   "outputs": [],
   "source": [
    "def histKS(var, truth, cutoff=2.5,bins=30,colors=['#FF4444', '#4444FF'], labels=['False','True'], density=False):\n",
    "    notNAN= np.isnan(var)==False;\n",
    "    truth=truth[notNAN];\n",
    "    var = var[notNAN];\n",
    "    \n",
    "    var = np.clip(var,a_min=np.percentile(var,cutoff), a_max=np.percentile(var,100-cutoff));\n",
    "    plt.xlim((np.percentile(var,cutoff), np.percentile(var,100-cutoff)))\n",
    "    plt.hist(var[truth == False], label=labels[0], bins=bins, color=colors[0], alpha=0.5);\n",
    "    plt.hist(var[truth], label=labels[1], bins=bins,color=colors[1], alpha=0.5);\n",
    "    \n",
    "    ax2 = plt.twinx()\n",
    "    \n",
    "    ks, ks_entropy, argsorted, cdfFalse, cdfTrue = ks_binary(var, truth)\n",
    "    ax2.plot(var[argsorted],cdfFalse,color=colors[0], label=labels[0])\n",
    "    ax2.plot(var[argsorted],cdfTrue,color=colors[1], label=labels[1])\n",
    "    ax2.set_ylim((0.0,1.05))\n",
    "\n",
    "    plt.xlabel(u\"Distância\");\n",
    "    plt.legend(loc='best')\n",
    "    return ks, ks_entropy;\n"
   ]
  },
  {
   "cell_type": "code",
   "execution_count": 21,
   "metadata": {},
   "outputs": [
    {
     "data": {
      "image/png": "[encoded data removed]",
      "text/plain": [
       "<Figure size 1080x576 with 10 Axes>"
      ]
     },
     "metadata": {},
     "output_type": "display_data"
    }
   ],
   "source": [
    "Y = datasetEstudo.answer.values==\"Y\";\n",
    "r = math.ceil(math.sqrt(len(distances)*1.0));\n",
    "c= math.ceil(len(distances)/r);\n",
    "plt.figure(figsize=(15,8))\n",
    "for i, d in enumerate(distances):\n",
    "    #print(d[0],' ', i)\n",
    "    plt.subplot(c,r,i+1);\n",
    "    if i % c == 0:\n",
    "        plt.ylabel(u\"Frequência\");\n",
    "    ks = histKS(d[1], Y, cutoff=0.0, bins=20, labels=['Diferentes','Mesmo']);\n",
    "    plt.title(\"%s | KS: %0.2f\" % (d[0], ks[0]));\n",
    "plt.tight_layout();\n",
    "plt.savefig( datasetEstudo.language.unique()[0] + \"_KS.png\")\n",
    "plt.show();"
   ]
  },
  {
   "cell_type": "code",
   "execution_count": 22,
   "metadata": {},
   "outputs": [
    {
     "data": {
      "text/html": [
       "<div>\n",
       "<style scoped>\n",
       "    .dataframe tbody tr th:only-of-type {\n",
       "        vertical-align: middle;\n",
       "    }\n",
       "\n",
       "    .dataframe tbody tr th {\n",
       "        vertical-align: top;\n",
       "    }\n",
       "\n",
       "    .dataframe thead th {\n",
       "        text-align: right;\n",
       "    }\n",
       "</style>\n",
       "<table border=\"1\" class=\"dataframe\">\n",
       "  <thead>\n",
       "    <tr style=\"text-align: right;\">\n",
       "      <th></th>\n",
       "      <th>Dissimilaridade</th>\n",
       "      <th>KS</th>\n",
       "      <th>KSEntropia</th>\n",
       "      <th>fClassifDF</th>\n",
       "    </tr>\n",
       "  </thead>\n",
       "  <tbody>\n",
       "    <tr>\n",
       "      <th>2</th>\n",
       "      <td>Jaccard</td>\n",
       "      <td>0.16</td>\n",
       "      <td>0.0000</td>\n",
       "      <td>0.136</td>\n",
       "    </tr>\n",
       "    <tr>\n",
       "      <th>0</th>\n",
       "      <td>Keselj</td>\n",
       "      <td>0.26</td>\n",
       "      <td>0.0000</td>\n",
       "      <td>0.009</td>\n",
       "    </tr>\n",
       "    <tr>\n",
       "      <th>1</th>\n",
       "      <td>Stamatatos</td>\n",
       "      <td>0.28</td>\n",
       "      <td>0.1347</td>\n",
       "      <td>0.008</td>\n",
       "    </tr>\n",
       "    <tr>\n",
       "      <th>3</th>\n",
       "      <td>Cosseno</td>\n",
       "      <td>0.56</td>\n",
       "      <td>0.0000</td>\n",
       "      <td>0.000</td>\n",
       "    </tr>\n",
       "    <tr>\n",
       "      <th>4</th>\n",
       "      <td>CossenoPCA</td>\n",
       "      <td>0.68</td>\n",
       "      <td>0.0000</td>\n",
       "      <td>0.000</td>\n",
       "    </tr>\n",
       "  </tbody>\n",
       "</table>\n",
       "</div>"
      ],
      "text/plain": [
       "  Dissimilaridade    KS  KSEntropia  fClassifDF\n",
       "2         Jaccard  0.16      0.0000       0.136\n",
       "0          Keselj  0.26      0.0000       0.009\n",
       "1      Stamatatos  0.28      0.1347       0.008\n",
       "3         Cosseno  0.56      0.0000       0.000\n",
       "4      CossenoPCA  0.68      0.0000       0.000"
      ]
     },
     "execution_count": 22,
     "metadata": {},
     "output_type": "execute_result"
    }
   ],
   "source": [
    "Y = datasetEstudo.answer.values==\"Y\";\n",
    "KS = pd.DataFrame(\n",
    "    {'Dissimilaridade':[m[0] for m in distances],\n",
    "    'KS': [ks_binary(m[1], Y)[0] for m in distances],\n",
    "    'KSEntropia': [ks_binary(m[1], Y)[1] for m in distances],\n",
    "    'fClassifDF': np.round([(f_classif(m[1].reshape(-1, 1), Y)[1])[0] for m in distances],3)\n",
    "    }\n",
    ");\n",
    "#KS.plot(kind='bar',x='Dissimilaridade', y='Kolmogorov-Smirnov');\n",
    "pd.set_option('precision',4)\n",
    "#KS.to_clipboard(excel=True);\n",
    "KS.sort_values('KS')\n"
   ]
  },
  {
   "cell_type": "code",
   "execution_count": 23,
   "metadata": {},
   "outputs": [
    {
     "data": {
      "image/png": "[encoded data removed]",
      "text/plain": [
       "<Figure size 720x720 with 4 Axes>"
      ]
     },
     "metadata": {},
     "output_type": "display_data"
    }
   ],
   "source": [
    "Attr = pd.DataFrame(dict(distances));\n",
    "Attr\n",
    "corr = Attr.corr()\n",
    "sns.clustermap(corr,annot=True, cmap=\"YlGnBu\", fmt='.0%',\n",
    "            xticklabels=corr.columns.values,\n",
    "            yticklabels=corr.columns.values);"
   ]
  },
  {
   "cell_type": "code",
   "execution_count": 24,
   "metadata": {},
   "outputs": [
    {
     "data": {
      "text/html": [
       "<div>\n",
       "<style scoped>\n",
       "    .dataframe tbody tr th:only-of-type {\n",
       "        vertical-align: middle;\n",
       "    }\n",
       "\n",
       "    .dataframe tbody tr th {\n",
       "        vertical-align: top;\n",
       "    }\n",
       "\n",
       "    .dataframe thead th {\n",
       "        text-align: right;\n",
       "    }\n",
       "</style>\n",
       "<table border=\"1\" class=\"dataframe\">\n",
       "  <thead>\n",
       "    <tr style=\"text-align: right;\">\n",
       "      <th></th>\n",
       "      <th>Cosseno</th>\n",
       "      <th>CossenoPCA</th>\n",
       "      <th>Jaccard</th>\n",
       "      <th>Keselj</th>\n",
       "      <th>Stamatatos</th>\n",
       "    </tr>\n",
       "  </thead>\n",
       "  <tbody>\n",
       "    <tr>\n",
       "      <th>Cosseno</th>\n",
       "      <td>1.0000</td>\n",
       "      <td>0.5592</td>\n",
       "      <td>0.5280</td>\n",
       "      <td>0.6181</td>\n",
       "      <td>0.4958</td>\n",
       "    </tr>\n",
       "    <tr>\n",
       "      <th>CossenoPCA</th>\n",
       "      <td>0.5592</td>\n",
       "      <td>1.0000</td>\n",
       "      <td>-0.0728</td>\n",
       "      <td>0.0571</td>\n",
       "      <td>-0.0148</td>\n",
       "    </tr>\n",
       "    <tr>\n",
       "      <th>Jaccard</th>\n",
       "      <td>0.5280</td>\n",
       "      <td>-0.0728</td>\n",
       "      <td>1.0000</td>\n",
       "      <td>0.9839</td>\n",
       "      <td>0.5982</td>\n",
       "    </tr>\n",
       "    <tr>\n",
       "      <th>Keselj</th>\n",
       "      <td>0.6181</td>\n",
       "      <td>0.0571</td>\n",
       "      <td>0.9839</td>\n",
       "      <td>1.0000</td>\n",
       "      <td>0.6101</td>\n",
       "    </tr>\n",
       "    <tr>\n",
       "      <th>Stamatatos</th>\n",
       "      <td>0.4958</td>\n",
       "      <td>-0.0148</td>\n",
       "      <td>0.5982</td>\n",
       "      <td>0.6101</td>\n",
       "      <td>1.0000</td>\n",
       "    </tr>\n",
       "  </tbody>\n",
       "</table>\n",
       "</div>"
      ],
      "text/plain": [
       "            Cosseno  CossenoPCA  Jaccard  Keselj  Stamatatos\n",
       "Cosseno      1.0000      0.5592   0.5280  0.6181      0.4958\n",
       "CossenoPCA   0.5592      1.0000  -0.0728  0.0571     -0.0148\n",
       "Jaccard      0.5280     -0.0728   1.0000  0.9839      0.5982\n",
       "Keselj       0.6181      0.0571   0.9839  1.0000      0.6101\n",
       "Stamatatos   0.4958     -0.0148   0.5982  0.6101      1.0000"
      ]
     },
     "execution_count": 24,
     "metadata": {},
     "output_type": "execute_result"
    }
   ],
   "source": [
    "corr"
   ]
  },
  {
   "cell_type": "markdown",
   "metadata": {},
   "source": [
    "# Classificador utilizando as funções de similiaridade"
   ]
  },
  {
   "cell_type": "code",
   "execution_count": 25,
   "metadata": {
    "collapsed": true,
    "scrolled": false
   },
   "outputs": [],
   "source": [
    "XK = datasetEstudo.known.values;\n",
    "XU = datasetEstudo.unknown.values;\n",
    "Y = datasetEstudo.answer.values==\"Y\";"
   ]
  },
  {
   "cell_type": "code",
   "execution_count": 26,
   "metadata": {
    "collapsed": true
   },
   "outputs": [],
   "source": [
    "kf = StratifiedKFold(n_splits=5, random_state =0);\n",
    "\n",
    "counter = CountVectorizer(\n",
    "        analyzer=\"char\",\n",
    "        min_df=0.90,\n",
    "        max_df=1.0,\n",
    "        ngram_range=(2,5),\n",
    "        lowercase=False,\n",
    "        dtype=np.float32\n",
    "    );\n",
    "\n",
    "pipeline = Pipeline(steps=[\n",
    "    ('scaler', MinMaxScaler()),\n",
    "    ('pca', PCA()),\n",
    "    ('clf', LogisticRegression(random_state = 0)) \n",
    "]);\n",
    "\n",
    "pipeline2 = Pipeline(steps=[\n",
    "    ('scaler', MinMaxScaler()),\n",
    "    ('clf', LogisticRegression(random_state = 0)) \n",
    "]);"
   ]
  },
  {
   "cell_type": "code",
   "execution_count": 29,
   "metadata": {},
   "outputs": [
    {
     "name": "stdout",
     "output_type": "stream",
     "text": [
      "\n",
      "iniciando iteração 1\n",
      "counter\n",
      "X training\n",
      "X test\n",
      "modelo  cosineAB\n",
      "modelo  cosinePCA\n",
      "modelo  Stamatatos\n",
      "modelo  keselj\n",
      "modelo  jaccard\n",
      "modelo  mp2\n",
      "modelo CNG distancia 2\n",
      "\n",
      "iniciando iteração 2\n",
      "counter\n"
     ]
    },
    {
     "name": "stderr",
     "output_type": "stream",
     "text": [
      "/Users/joseeleandrocustodio/anaconda2/lib/python2.7/site-packages/ipykernel_launcher.py:6: RuntimeWarning: divide by zero encountered in divide\n",
      "  \n",
      "/Users/joseeleandrocustodio/anaconda2/lib/python2.7/site-packages/ipykernel_launcher.py:6: RuntimeWarning: invalid value encountered in divide\n",
      "  \n",
      "/Users/joseeleandrocustodio/anaconda2/lib/python2.7/site-packages/ipykernel_launcher.py:13: RuntimeWarning: divide by zero encountered in divide\n",
      "  del sys.path[0]\n",
      "/Users/joseeleandrocustodio/anaconda2/lib/python2.7/site-packages/ipykernel_launcher.py:13: RuntimeWarning: invalid value encountered in divide\n",
      "  del sys.path[0]\n"
     ]
    },
    {
     "name": "stdout",
     "output_type": "stream",
     "text": [
      "X training\n",
      "X test\n",
      "modelo  cosineAB\n",
      "modelo  cosinePCA\n",
      "modelo  Stamatatos\n",
      "modelo  keselj\n",
      "modelo  jaccard\n",
      "modelo  mp2\n",
      "modelo CNG distancia 2\n",
      "\n",
      "iniciando iteração 3\n",
      "counter\n",
      "X training\n",
      "X test\n",
      "modelo  cosineAB\n",
      "modelo  cosinePCA\n",
      "modelo  Stamatatos\n",
      "modelo  keselj\n",
      "modelo  jaccard\n",
      "modelo  mp2\n",
      "modelo CNG distancia 2\n",
      "\n",
      "iniciando iteração 4\n",
      "counter\n",
      "X training\n",
      "X test\n",
      "modelo  cosineAB\n",
      "modelo  cosinePCA\n",
      "modelo  Stamatatos\n",
      "modelo  keselj\n",
      "modelo  jaccard\n",
      "modelo  mp2\n",
      "modelo CNG distancia 2\n",
      "\n",
      "iniciando iteração 5\n",
      "counter\n",
      "X training\n",
      "X test\n",
      "modelo  cosineAB\n",
      "modelo  cosinePCA\n",
      "modelo  Stamatatos\n",
      "modelo  keselj\n",
      "modelo  jaccard\n",
      "modelo  mp2\n",
      "modelo CNG distancia 2\n"
     ]
    }
   ],
   "source": [
    "modelsResults = [];\n",
    "\n",
    "i =0;\n",
    "\n",
    "for train_index, test_index in kf.split(XK, Y):\n",
    "    i=i+1;\n",
    "    print(\"\\niniciando iteração %d\" % i);\n",
    "    \n",
    "    XKtrain, XKtest = XK[train_index], XK[test_index];\n",
    "    XUtrain, XUtest = XU[train_index], XU[test_index];\n",
    "    YTrain , YTest  = Y[train_index] , Y[test_index];\n",
    "    \n",
    "    print(\"counter\");\n",
    "    counter.fit(np.append(XKtrain,XUtrain));\n",
    "    XKtrain, XKtest = counter.transform(XKtrain).todense(), counter.transform(XKtest).todense();\n",
    "    XUtrain, XUtest = counter.transform(XUtrain).todense(), counter.transform(XUtest).todense();\n",
    "    \n",
    "    XKtrain, XKtest  = normalizer(XKtrain), normalizer(XKtest);\n",
    "    XUtrain, XUtest  = normalizer(XUtrain), normalizer(XUtest);    \n",
    "    \n",
    "    \n",
    "    print(\"X training\");  \n",
    "    pca = PCA(0.95);\n",
    "    pca.fit(np.vstack((XKtrain,XUtrain)));\n",
    "    \n",
    "    cosineABtrain    = cosine(XKtrain,XUtrain);\n",
    "    cosineABpcatrain = cosine(pca.transform(XKtrain),pca.transform(XUtrain));    \n",
    "    Statamatostrain  = CNG_Stamatatos(XKtrain, XUtrain);\n",
    "    keseljtrain      = CNG_Keselj(XKtrain, XUtrain);\n",
    "    jaccardtrain     = np.diag(pairwise_distances(XKtrain > 0, XUtrain >0, metric='jaccard'));\n",
    "    \n",
    "    Xtrain = np.vstack((cosineABtrain, cosineABpcatrain , Statamatostrain, keseljtrain, jaccardtrain)).T;\n",
    "    \n",
    "    print(\"X test\");\n",
    "    cosineABtest     = cosine(XKtest,XUtest);\n",
    "    cosineABpcatest  = cosine(pca.transform(XKtest),pca.transform(XUtest));   \n",
    "    Statamatostest   = CNG_Stamatatos(XKtest, XUtest);\n",
    "    keseljtest       = CNG_Keselj(XKtest, XUtest);\n",
    "    jaccardtest      = np.diag(pairwise_distances(XKtest > 0, XUtest >0, metric='jaccard'));\n",
    "    \n",
    "    Xtest = np.vstack((cosineABtest, cosineABpcatest , Statamatostest, keseljtest, jaccardtest)).T;\n",
    "    \n",
    "    modesl = ['cosineAB', 'cosinePCA', 'Stamatatos','keselj','jaccard'];\n",
    "    for j in range(Xtrain.shape[1]):\n",
    "            print(\"modelo  %s\"%modesl[j]);\n",
    "            pipeline2.fit(Xtrain[:,j].reshape(-1,1),YTrain);\n",
    "            predTrain = pipeline2.predict_proba(Xtrain[:,j].reshape(-1,1));\n",
    "            predTest = pipeline2.predict_proba(Xtest[:,j].reshape(-1,1));\n",
    "            \n",
    "            precision, recall, f1, _ = precision_recall_fscore_support(YTest, predTest[:,1]>0.5,average='macro')\n",
    "\n",
    "            modelsResults.append({        \n",
    "                'kfold'     : i,\n",
    "                'model'     :modesl[j],\n",
    "                'train': roc_auc_score(YTrain, predTrain[:,1]),\n",
    "                'test' : roc_auc_score(YTest, predTest[:,1]),\n",
    "                'accuracy':accuracy_score(YTest, predTest[:,1]>0.5),\n",
    "                'precision':precision,\n",
    "                'recall':recall,\n",
    "                'f1':f1,\n",
    "                'cscore':cScore(YTest, predTest[:,1])\n",
    "            })  ;\n",
    "    \n",
    "    print(\"modelo  mp2\");\n",
    "    Xtrain = np.vstack((cosineABtrain, cosineABpcatrain , Statamatostrain)).T;\n",
    "    Xtest  = np.vstack((cosineABtest, cosineABpcatest , Statamatostest)).T;\n",
    "    pipeline.fit(Xtrain,YTrain);\n",
    "    predTrain = pipeline.predict_proba(Xtrain);\n",
    "    predTest = pipeline.predict_proba(Xtest);\n",
    "    precision, recall, f1, _ = precision_recall_fscore_support(YTest, predTest[:,1]>0.5,average='macro')\n",
    "    \n",
    "    modelsResults.append({        \n",
    "        'kfold'     : i,\n",
    "        'model'     :'mp2_mix',\n",
    "        'train': roc_auc_score(YTrain, predTrain[:,1]),\n",
    "        'test' : roc_auc_score(YTest, predTest[:,1]),\n",
    "        'accuracy':accuracy_score(YTest, predTest[:,1]>0.5),\n",
    "        'precision':precision,\n",
    "        'recall':recall,\n",
    "        'f1':f1,\n",
    "        'cscore':cScore(YTest, predTest[:,1])\n",
    "    })  ;\n",
    "    \n",
    "    print(\"modelo CNG distancia 2\");\n",
    "    Xtrain = difchi2(XKtrain,XUtrain);\n",
    "    Xtest = difchi2(XKtest,XUtest);\n",
    "    \n",
    "    pipeline.fit(Xtrain,YTrain);\n",
    "    predTrain = pipeline.predict_proba(Xtrain);\n",
    "    predTest = pipeline.predict_proba(Xtest);\n",
    "    precision, recall, f1, _ = precision_recall_fscore_support(YTest, predTest[:,1]>0.5,average='macro')\n",
    "    \n",
    "    modelsResults.append({        \n",
    "        'kfold'     : i,\n",
    "        'model'     :'MP1_bow',\n",
    "        'train': roc_auc_score(YTrain, predTrain[:,1]),\n",
    "        'test' : roc_auc_score(YTest, predTest[:,1]),\n",
    "        'accuracy':accuracy_score(YTest, predTest[:,1]>0.5),\n",
    "        'precision':precision,\n",
    "        'recall':recall,\n",
    "        'f1':f1,\n",
    "        'cscore':cScore(YTest, predTest[:,1])\n",
    "    });"
   ]
  },
  {
   "cell_type": "code",
   "execution_count": 30,
   "metadata": {},
   "outputs": [
    {
     "data": {
      "text/html": [
       "<div>\n",
       "<style scoped>\n",
       "    .dataframe tbody tr th:only-of-type {\n",
       "        vertical-align: middle;\n",
       "    }\n",
       "\n",
       "    .dataframe tbody tr th {\n",
       "        vertical-align: top;\n",
       "    }\n",
       "\n",
       "    .dataframe thead th {\n",
       "        text-align: right;\n",
       "    }\n",
       "</style>\n",
       "<table border=\"1\" class=\"dataframe\">\n",
       "  <thead>\n",
       "    <tr style=\"text-align: right;\">\n",
       "      <th></th>\n",
       "      <th>test</th>\n",
       "      <th>cscore</th>\n",
       "      <th>final</th>\n",
       "      <th>accuracy</th>\n",
       "    </tr>\n",
       "    <tr>\n",
       "      <th>model</th>\n",
       "      <th></th>\n",
       "      <th></th>\n",
       "      <th></th>\n",
       "      <th></th>\n",
       "    </tr>\n",
       "  </thead>\n",
       "  <tbody>\n",
       "    <tr>\n",
       "      <th>jaccard</th>\n",
       "      <td>0.571</td>\n",
       "      <td>0.5075</td>\n",
       "      <td>0.2980</td>\n",
       "      <td>0.52</td>\n",
       "    </tr>\n",
       "    <tr>\n",
       "      <th>Stamatatos</th>\n",
       "      <td>0.582</td>\n",
       "      <td>0.5395</td>\n",
       "      <td>0.3146</td>\n",
       "      <td>0.54</td>\n",
       "    </tr>\n",
       "    <tr>\n",
       "      <th>keselj</th>\n",
       "      <td>0.710</td>\n",
       "      <td>0.6000</td>\n",
       "      <td>0.4343</td>\n",
       "      <td>0.60</td>\n",
       "    </tr>\n",
       "    <tr>\n",
       "      <th>MP1_bow</th>\n",
       "      <td>0.714</td>\n",
       "      <td>0.6200</td>\n",
       "      <td>0.4533</td>\n",
       "      <td>0.62</td>\n",
       "    </tr>\n",
       "    <tr>\n",
       "      <th>cosineAB</th>\n",
       "      <td>0.876</td>\n",
       "      <td>0.7700</td>\n",
       "      <td>0.6774</td>\n",
       "      <td>0.77</td>\n",
       "    </tr>\n",
       "    <tr>\n",
       "      <th>cosinePCA</th>\n",
       "      <td>0.922</td>\n",
       "      <td>0.8265</td>\n",
       "      <td>0.7688</td>\n",
       "      <td>0.83</td>\n",
       "    </tr>\n",
       "    <tr>\n",
       "      <th>mp2_mix</th>\n",
       "      <td>0.944</td>\n",
       "      <td>0.8500</td>\n",
       "      <td>0.8055</td>\n",
       "      <td>0.85</td>\n",
       "    </tr>\n",
       "  </tbody>\n",
       "</table>\n",
       "</div>"
      ],
      "text/plain": [
       "             test  cscore   final  accuracy\n",
       "model                                      \n",
       "jaccard     0.571  0.5075  0.2980      0.52\n",
       "Stamatatos  0.582  0.5395  0.3146      0.54\n",
       "keselj      0.710  0.6000  0.4343      0.60\n",
       "MP1_bow     0.714  0.6200  0.4533      0.62\n",
       "cosineAB    0.876  0.7700  0.6774      0.77\n",
       "cosinePCA   0.922  0.8265  0.7688      0.83\n",
       "mp2_mix     0.944  0.8500  0.8055      0.85"
      ]
     },
     "execution_count": 30,
     "metadata": {},
     "output_type": "execute_result"
    }
   ],
   "source": [
    "df =pd.DataFrame(modelsResults);\n",
    "df['final'] = df.test * df.cscore;\n",
    "df=df.groupby(by=['model']).mean()[['test','cscore','final','accuracy']].sort_values('test')\n",
    "df"
   ]
  },
  {
   "cell_type": "code",
   "execution_count": null,
   "metadata": {},
   "outputs": [],
   "source": [
    "df = pd.DataFrame(modelsResults).groupby(by=['model']).mean();\n",
    "df.to_clipboard(excel=True);\n",
    "pd.DataFrame(modelsResults).groupby(by=['model']).mean()"
   ]
  },
  {
   "cell_type": "code",
   "execution_count": 31,
   "metadata": {
    "collapsed": true
   },
   "outputs": [
    {
     "data": {
      "text/plain": [
       "Text(0.5,1,'KS 0.60')"
      ]
     },
     "execution_count": 31,
     "metadata": {},
     "output_type": "execute_result"
    },
    {
     "data": {
      "image/png": "[encoded data removed]",
      "text/plain": [
       "<Figure size 432x288 with 2 Axes>"
      ]
     },
     "metadata": {},
     "output_type": "display_data"
    }
   ],
   "source": [
    "ks,_ = histKS(predTest[:,1], YTest, cutoff=0, bins=10)\n",
    "plt.title(\"KS %0.2f\"%ks)"
   ]
  },
  {
   "cell_type": "code",
   "execution_count": null,
   "metadata": {},
   "outputs": [],
   "source": []
  }
 ],
 "metadata": {
  "kernelspec": {
   "display_name": "Python 2",
   "language": "python",
   "name": "python2"
  },
  "language_info": {
   "codemirror_mode": {
    "name": "ipython",
    "version": 2
   },
   "file_extension": ".py",
   "mimetype": "text/x-python",
   "name": "python",
   "nbconvert_exporter": "python",
   "pygments_lexer": "ipython2",
   "version": "2.7.14"
  }
 },
 "nbformat": 4,
 "nbformat_minor": 2
}
